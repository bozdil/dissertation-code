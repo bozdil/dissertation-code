{
 "cells": [
  {
   "cell_type": "markdown",
   "id": "a5a5f00d",
   "metadata": {
    "editable": true,
    "slideshow": {
     "slide_type": ""
    },
    "tags": []
   },
   "source": [
    "# abular Classification with Amazon SageMaker TabTransformer algorithm"
   ]
  },
  {
   "cell_type": "markdown",
   "id": "6921013b",
   "metadata": {
    "editable": true,
    "slideshow": {
     "slide_type": ""
    },
    "tags": []
   },
   "source": [
    "---\n",
    "\n",
    "This notebook's CI test result for us-west-2 is as follows. CI test results in other regions can be found at the end of the notebook. \n",
    "\n",
    "![This us-west-2 badge failed to load. Check your device's internet connectivity, otherwise the service is currently unavailable](https://prod.us-west-2.tcx-beacon.docs.aws.dev/sagemaker-nb/us-west-2/introduction_to_amazon_algorithms|tabtransformer_tabular|Amazon_Tabular_Regression_TabTransformer.ipynb)\n",
    "\n",
    "---"
   ]
  },
  {
   "cell_type": "markdown",
   "id": "e4a988c0",
   "metadata": {
    "editable": true,
    "slideshow": {
     "slide_type": ""
    },
    "tags": []
   },
   "source": [
    "---\n",
    "This notebook demonstrates the use of Amazon SageMaker [TabTransformer](https://arxiv.org/abs/2012.06678) algorithm to train and host a tabular regression model. Tabular regression is the task of analyzing the relationship between predictor variables and a response variable in a structured or relational data.\n",
    "\n",
    "In this notebook, we demonstrate two use cases of tabular regression models:\n",
    "\n",
    "* How to train a tabular model on an example dataset to do regression.\n",
    "* How to use the trained tabular model to perform inference, i.e., predicting new samples.\n",
    "\n",
    "Note: This notebook was tested in Amazon SageMaker Studio on ml.t3.medium instance with Python 3 (Data Science) kernel.\n",
    "\n",
    "---"
   ]
  },
  {
   "cell_type": "markdown",
   "id": "20d6932f",
   "metadata": {},
   "source": [
    "1. [Set Up](#1.-Set-Up)\n",
    "2. [Train A Tabular Model on Abalone Dataset](#2.-Train-a-Tabular-Model-on-Abalone-Dataset)\n",
    "    * [Retrieve Training Artifacts](#2.1.-Retrieve-Training-Artifacts)\n",
    "    * [Set Training Parameters](#2.2.-Set-Training-Parameters)\n",
    "    * [Train with Automatic Model Tuning](#2.3.-Train-with-Automatic-Model-Tuning)    \n",
    "    * [Start Training](#2.4.-Start-Training)\n",
    "3. [Deploy and Run Inference on the Trained Tabular Model](#3.-Deploy-and-Run-Inference-on-the-Trained-Tabular-Model)\n",
    "4. [Evaluate the Prediction Results Returned from the Endpoint](#4.-Evaluate-the-Prediction-Results-Returned-from-the-Endpoint)"
   ]
  },
  {
   "cell_type": "markdown",
   "id": "b48f84d1",
   "metadata": {
    "editable": true,
    "slideshow": {
     "slide_type": ""
    },
    "tags": []
   },
   "source": [
    "## 1. Set Up"
   ]
  },
  {
   "cell_type": "markdown",
   "id": "e64a82bf",
   "metadata": {},
   "source": [
    "---\n",
    "Before executing the notebook, there are some initial steps required for setup. This notebook requires latest version of sagemaker and ipywidgets.\n",
    "\n",
    "---"
   ]
  },
  {
   "cell_type": "code",
   "execution_count": 1,
   "id": "8f634c19",
   "metadata": {},
   "outputs": [],
   "source": [
    "!pip install sagemaker ipywidgets openpyxl --upgrade --quiet"
   ]
  },
  {
   "cell_type": "markdown",
   "id": "c640693a",
   "metadata": {},
   "source": [
    "\n",
    "---\n",
    "To train and host on Amazon SageMaker, we need to setup and authenticate the use of AWS services. Here, we use the execution role associated with the current notebook instance as the AWS account role with SageMaker access. It has necessary permissions, including access to your data in S3.\n",
    "\n",
    "---"
   ]
  },
  {
   "cell_type": "code",
   "execution_count": 2,
   "id": "ca80c47f",
   "metadata": {},
   "outputs": [
    {
     "name": "stdout",
     "output_type": "stream",
     "text": [
      "sagemaker.config INFO - Not applying SDK defaults from location: /etc/xdg/sagemaker/config.yaml\n",
      "sagemaker.config INFO - Not applying SDK defaults from location: /home/sagemaker-user/.config/sagemaker/config.yaml\n"
     ]
    }
   ],
   "source": [
    "import sagemaker, boto3, json\n",
    "from sagemaker import get_execution_role\n",
    "\n",
    "aws_role = get_execution_role()\n",
    "aws_region = boto3.Session().region_name\n",
    "sess = sagemaker.Session()"
   ]
  },
  {
   "cell_type": "markdown",
   "id": "5cf8deb3-17db-41dc-aed5-7a0da17d0ab2",
   "metadata": {},
   "source": [
    "## 2. Train a Tabular Model on Telco data\n",
    "\n",
    "---\n",
    "\n",
    "In this demonstration, we will train a tabular algorithm on the [IBM's Telecom Churn Data](https://www.kaggle.com/datasets/ylchang/telco-customer-churn-1113/data) dataset.\n"
   ]
  },
  {
   "cell_type": "markdown",
   "id": "411468dc",
   "metadata": {
    "editable": true,
    "slideshow": {
     "slide_type": ""
    },
    "tags": []
   },
   "source": [
    "### 2.1. Retrieve Training Artifacts\n",
    "\n",
    "___\n",
    "\n",
    "Here, we retrieve the training docker container, the training algorithm source, and the tabular algorithm. Note that model_version=\"*\" fetches the latest model.\n",
    "\n",
    "For the training algorithm, we have one choice in this demonstration.\n",
    "* [TabTransformer](https://arxiv.org/abs/2012.06678): To use this algorithm, specify `train_model_id` as `pytorch-tabtransformerregression-model` in the cell below.\n",
    "\n",
    "Note. [LightGBM](https://lightgbm.readthedocs.io/en/latest/) (`train_model_id: lightgbm-regression-model`), [CatBoost](https://catboost.ai/en/docs/) (`train_model_id:catboost-regression-model`), [XGBoost](https://xgboost.readthedocs.io/en/latest/) (`train_model_id: xgboost-regression-model`), [Linear Learner](https://scikit-learn.org/stable/modules/generated/sklearn.linear_model.LogisticRegression.html#sklearn.linear_model.LogisticRegression) (`train_model_id: sklearn-regression-linear`), and [AutoGluon Tabular](https://auto.gluon.ai/stable/tutorials/tabular_prediction/index.html) (`train_model_id: autogluon-regression-ensemble`) are the other choices in the tabular regression category. Since they have different input-format requirements, please check separate notebooks `lightgbm_catboost_tabular/Amazon_Tabular_Regression_LightGBM_CatBoost.ipynb`, `xgboost_linear_learner_tabular/Amazon_Tabular_Regression_XGBoost_LinearLearner.ipynb`, and `autogluon_tabular/Amazon_Tabular_Regression_AutoGluon.ipynb` for details.\n",
    "\n",
    "---"
   ]
  },
  {
   "cell_type": "code",
   "execution_count": 3,
   "id": "72ff6773",
   "metadata": {
    "editable": true,
    "slideshow": {
     "slide_type": ""
    },
    "tags": []
   },
   "outputs": [
    {
     "name": "stderr",
     "output_type": "stream",
     "text": [
      "Using model 'pytorch-tabtransformerclassification-model' with wildcard version identifier '*'. You can pin to version '2.0.0' for more stable results. Note that models may have different input/output signatures after a major version upgrade.\n"
     ]
    }
   ],
   "source": [
    "from sagemaker import image_uris, model_uris, script_uris\n",
    "\n",
    "train_model_id, train_model_version, train_scope = (\n",
    "    \"pytorch-tabtransformerclassification-model\",\n",
    "    \"*\",\n",
    "    \"training\",\n",
    ")\n",
    "training_instance_type = \"ml.m5.2xlarge\"\n",
    "\n",
    "# Retrieve the docker image\n",
    "train_image_uri = image_uris.retrieve(\n",
    "    region=None,\n",
    "    framework=None,\n",
    "    model_id=train_model_id,\n",
    "    model_version=train_model_version,\n",
    "    image_scope=train_scope,\n",
    "    instance_type=training_instance_type,\n",
    ")\n",
    "# Retrieve the training script\n",
    "train_source_uri = script_uris.retrieve(\n",
    "    model_id=train_model_id, model_version=train_model_version, script_scope=train_scope\n",
    ")\n",
    "# Retrieve the pre-trained model tarball to further fine-tune. In tabular case, however, the pre-trained model tarball is dummy and fine-tune means training from scratch.\n",
    "train_model_uri = model_uris.retrieve(\n",
    "    model_id=train_model_id, model_version=train_model_version, model_scope=train_scope\n",
    ")"
   ]
  },
  {
   "cell_type": "markdown",
   "id": "b6e61f32-5f49-4dbd-8905-643a9dcfc9aa",
   "metadata": {},
   "source": [
    "## 2.3 Investigate Data (EDA)"
   ]
  },
  {
   "cell_type": "markdown",
   "id": "bcfd1a43",
   "metadata": {},
   "source": [
    "### Set Training Parameters and get the Data Preprocessing\n",
    "\n",
    "---\n",
    "Now that we are done with all the setup that is needed, we are ready to train our tabular algorithm. To begin, let us create a [``sageMaker.estimator.Estimator``](https://sagemaker.readthedocs.io/en/stable/api/training/estimators.html) object. This estimator will launch the training job. \n",
    "\n",
    "There are two kinds of parameters that need to be set for training. The first one are the parameters for the training job. These include: (i) Training data path. This is S3 folder in which the input data is stored, (ii) Output path: This the s3 folder in which the training output is stored. (iii) Training instance type: This indicates the type of machine on which to run the training.\n",
    "\n",
    "The second set of parameters are algorithm specific training hyper-parameters. \n",
    "\n",
    "---"
   ]
  },
  {
   "cell_type": "code",
   "execution_count": 4,
   "id": "d8da6326-dd0a-4850-93cc-9b35d196e51c",
   "metadata": {
    "editable": true,
    "slideshow": {
     "slide_type": ""
    },
    "tags": []
   },
   "outputs": [],
   "source": [
    "# Download the data\n",
    "import numpy as np\n",
    "import pandas as pd\n",
    "from sklearn.metrics import mean_absolute_error\n",
    "from sklearn.metrics import mean_squared_error\n",
    "from sklearn.metrics import r2_score\n",
    "import matplotlib.pyplot as plt\n",
    "\n",
    "\n",
    "raw_data_prefix = \"telco/raw\"\n",
    "\n",
    "training_data_file_name = \"Telco_customer_churn.xlsx\"\n",
    "\n",
    "data_bucket = \"sagemaker-us-east-1-397799416488\"\n",
    "\n",
    "boto3.client(\"s3\").upload_file(\n",
    "    f\"./{training_data_file_name}\",\n",
    "    data_bucket,\n",
    "    f\"{raw_data_prefix}/train/{training_data_file_name}\"\n",
    ")\n"
   ]
  },
  {
   "cell_type": "code",
   "execution_count": 5,
   "id": "6f356bc3-2248-4a9e-af0b-9ac7817e29bd",
   "metadata": {
    "editable": true,
    "slideshow": {
     "slide_type": ""
    },
    "tags": []
   },
   "outputs": [],
   "source": [
    "# import os\n",
    "\n",
    "# def download_dir(client, resource, dist, local='/tmp', bucket='your_bucket'):\n",
    "#     paginator = client.get_paginator('list_objects')\n",
    "#     for result in paginator.paginate(Bucket=bucket, Delimiter='/', Prefix=dist):\n",
    "#         if result.get('CommonPrefixes') is not None:\n",
    "#             for subdir in result.get('CommonPrefixes'):\n",
    "#                 download_dir(client, resource, subdir.get('Prefix'), local, bucket)\n",
    "#         for file in result.get('Contents', []):\n",
    "#             dest_pathname = os.path.join(local, file.get('Key'))\n",
    "#             if not os.path.exists(os.path.dirname(dest_pathname)):\n",
    "#                 os.makedirs(os.path.dirname(dest_pathname))\n",
    "#             if not file.get('Key').endswith('/'):\n",
    "#                 resource.meta.client.download_file(bucket, file.get('Key'), dest_pathname)\n",
    "\n",
    "# client = boto3.client('s3')\n",
    "# resource = boto3.resource('s3')\n",
    "# example_bucket = f\"jumpstart-cache-prod-{aws_region}\"\n",
    "# download_dir(client, resource, 'training-datasets/tabular_binary/', 'tmp/', bucket=example_bucket)"
   ]
  },
  {
   "cell_type": "code",
   "execution_count": 6,
   "id": "31b39a11-3427-4c0b-8b22-b9872d86c752",
   "metadata": {
    "editable": true,
    "slideshow": {
     "slide_type": ""
    },
    "tags": []
   },
   "outputs": [],
   "source": [
    "train = pd.read_excel('./Telco_customer_churn.xlsx')"
   ]
  },
  {
   "cell_type": "code",
   "execution_count": 7,
   "id": "914cca11-1efa-4391-87db-00282a2d1231",
   "metadata": {},
   "outputs": [
    {
     "name": "stdout",
     "output_type": "stream",
     "text": [
      "Data Shape: (7043, 33)\n",
      "<class 'pandas.core.frame.DataFrame'>\n",
      "RangeIndex: 7043 entries, 0 to 7042\n",
      "Data columns (total 33 columns):\n",
      " #   Column             Non-Null Count  Dtype  \n",
      "---  ------             --------------  -----  \n",
      " 0   CustomerID         7043 non-null   object \n",
      " 1   Count              7043 non-null   int64  \n",
      " 2   Country            7043 non-null   object \n",
      " 3   State              7043 non-null   object \n",
      " 4   City               7043 non-null   object \n",
      " 5   Zip Code           7043 non-null   int64  \n",
      " 6   Lat Long           7043 non-null   object \n",
      " 7   Latitude           7043 non-null   float64\n",
      " 8   Longitude          7043 non-null   float64\n",
      " 9   Gender             7043 non-null   object \n",
      " 10  Senior Citizen     7043 non-null   object \n",
      " 11  Partner            7043 non-null   object \n",
      " 12  Dependents         7043 non-null   object \n",
      " 13  Tenure Months      7043 non-null   int64  \n",
      " 14  Phone Service      7043 non-null   object \n",
      " 15  Multiple Lines     7043 non-null   object \n",
      " 16  Internet Service   7043 non-null   object \n",
      " 17  Online Security    7043 non-null   object \n",
      " 18  Online Backup      7043 non-null   object \n",
      " 19  Device Protection  7043 non-null   object \n",
      " 20  Tech Support       7043 non-null   object \n",
      " 21  Streaming TV       7043 non-null   object \n",
      " 22  Streaming Movies   7043 non-null   object \n",
      " 23  Contract           7043 non-null   object \n",
      " 24  Paperless Billing  7043 non-null   object \n",
      " 25  Payment Method     7043 non-null   object \n",
      " 26  Monthly Charges    7043 non-null   float64\n",
      " 27  Total Charges      7043 non-null   object \n",
      " 28  Churn Label        7043 non-null   object \n",
      " 29  Churn Value        7043 non-null   int64  \n",
      " 30  Churn Score        7043 non-null   int64  \n",
      " 31  CLTV               7043 non-null   int64  \n",
      " 32  Churn Reason       1869 non-null   object \n",
      "dtypes: float64(3), int64(6), object(24)\n",
      "memory usage: 1.8+ MB\n"
     ]
    },
    {
     "data": {
      "text/html": [
       "<div>\n",
       "<style scoped>\n",
       "    .dataframe tbody tr th:only-of-type {\n",
       "        vertical-align: middle;\n",
       "    }\n",
       "\n",
       "    .dataframe tbody tr th {\n",
       "        vertical-align: top;\n",
       "    }\n",
       "\n",
       "    .dataframe thead th {\n",
       "        text-align: right;\n",
       "    }\n",
       "</style>\n",
       "<table border=\"1\" class=\"dataframe\">\n",
       "  <thead>\n",
       "    <tr style=\"text-align: right;\">\n",
       "      <th></th>\n",
       "      <th>CustomerID</th>\n",
       "      <th>Count</th>\n",
       "      <th>Country</th>\n",
       "      <th>State</th>\n",
       "      <th>City</th>\n",
       "      <th>Zip Code</th>\n",
       "      <th>Lat Long</th>\n",
       "      <th>Latitude</th>\n",
       "      <th>Longitude</th>\n",
       "      <th>Gender</th>\n",
       "      <th>...</th>\n",
       "      <th>Contract</th>\n",
       "      <th>Paperless Billing</th>\n",
       "      <th>Payment Method</th>\n",
       "      <th>Monthly Charges</th>\n",
       "      <th>Total Charges</th>\n",
       "      <th>Churn Label</th>\n",
       "      <th>Churn Value</th>\n",
       "      <th>Churn Score</th>\n",
       "      <th>CLTV</th>\n",
       "      <th>Churn Reason</th>\n",
       "    </tr>\n",
       "  </thead>\n",
       "  <tbody>\n",
       "    <tr>\n",
       "      <th>0</th>\n",
       "      <td>3668-QPYBK</td>\n",
       "      <td>1</td>\n",
       "      <td>United States</td>\n",
       "      <td>California</td>\n",
       "      <td>Los Angeles</td>\n",
       "      <td>90003</td>\n",
       "      <td>33.964131, -118.272783</td>\n",
       "      <td>33.964131</td>\n",
       "      <td>-118.272783</td>\n",
       "      <td>Male</td>\n",
       "      <td>...</td>\n",
       "      <td>Month-to-month</td>\n",
       "      <td>Yes</td>\n",
       "      <td>Mailed check</td>\n",
       "      <td>53.85</td>\n",
       "      <td>108.15</td>\n",
       "      <td>Yes</td>\n",
       "      <td>1</td>\n",
       "      <td>86</td>\n",
       "      <td>3239</td>\n",
       "      <td>Competitor made better offer</td>\n",
       "    </tr>\n",
       "    <tr>\n",
       "      <th>1</th>\n",
       "      <td>9237-HQITU</td>\n",
       "      <td>1</td>\n",
       "      <td>United States</td>\n",
       "      <td>California</td>\n",
       "      <td>Los Angeles</td>\n",
       "      <td>90005</td>\n",
       "      <td>34.059281, -118.30742</td>\n",
       "      <td>34.059281</td>\n",
       "      <td>-118.307420</td>\n",
       "      <td>Female</td>\n",
       "      <td>...</td>\n",
       "      <td>Month-to-month</td>\n",
       "      <td>Yes</td>\n",
       "      <td>Electronic check</td>\n",
       "      <td>70.70</td>\n",
       "      <td>151.65</td>\n",
       "      <td>Yes</td>\n",
       "      <td>1</td>\n",
       "      <td>67</td>\n",
       "      <td>2701</td>\n",
       "      <td>Moved</td>\n",
       "    </tr>\n",
       "    <tr>\n",
       "      <th>2</th>\n",
       "      <td>9305-CDSKC</td>\n",
       "      <td>1</td>\n",
       "      <td>United States</td>\n",
       "      <td>California</td>\n",
       "      <td>Los Angeles</td>\n",
       "      <td>90006</td>\n",
       "      <td>34.048013, -118.293953</td>\n",
       "      <td>34.048013</td>\n",
       "      <td>-118.293953</td>\n",
       "      <td>Female</td>\n",
       "      <td>...</td>\n",
       "      <td>Month-to-month</td>\n",
       "      <td>Yes</td>\n",
       "      <td>Electronic check</td>\n",
       "      <td>99.65</td>\n",
       "      <td>820.5</td>\n",
       "      <td>Yes</td>\n",
       "      <td>1</td>\n",
       "      <td>86</td>\n",
       "      <td>5372</td>\n",
       "      <td>Moved</td>\n",
       "    </tr>\n",
       "    <tr>\n",
       "      <th>3</th>\n",
       "      <td>7892-POOKP</td>\n",
       "      <td>1</td>\n",
       "      <td>United States</td>\n",
       "      <td>California</td>\n",
       "      <td>Los Angeles</td>\n",
       "      <td>90010</td>\n",
       "      <td>34.062125, -118.315709</td>\n",
       "      <td>34.062125</td>\n",
       "      <td>-118.315709</td>\n",
       "      <td>Female</td>\n",
       "      <td>...</td>\n",
       "      <td>Month-to-month</td>\n",
       "      <td>Yes</td>\n",
       "      <td>Electronic check</td>\n",
       "      <td>104.80</td>\n",
       "      <td>3046.05</td>\n",
       "      <td>Yes</td>\n",
       "      <td>1</td>\n",
       "      <td>84</td>\n",
       "      <td>5003</td>\n",
       "      <td>Moved</td>\n",
       "    </tr>\n",
       "    <tr>\n",
       "      <th>4</th>\n",
       "      <td>0280-XJGEX</td>\n",
       "      <td>1</td>\n",
       "      <td>United States</td>\n",
       "      <td>California</td>\n",
       "      <td>Los Angeles</td>\n",
       "      <td>90015</td>\n",
       "      <td>34.039224, -118.266293</td>\n",
       "      <td>34.039224</td>\n",
       "      <td>-118.266293</td>\n",
       "      <td>Male</td>\n",
       "      <td>...</td>\n",
       "      <td>Month-to-month</td>\n",
       "      <td>Yes</td>\n",
       "      <td>Bank transfer (automatic)</td>\n",
       "      <td>103.70</td>\n",
       "      <td>5036.3</td>\n",
       "      <td>Yes</td>\n",
       "      <td>1</td>\n",
       "      <td>89</td>\n",
       "      <td>5340</td>\n",
       "      <td>Competitor had better devices</td>\n",
       "    </tr>\n",
       "  </tbody>\n",
       "</table>\n",
       "<p>5 rows × 33 columns</p>\n",
       "</div>"
      ],
      "text/plain": [
       "   CustomerID  Count        Country       State         City  Zip Code  \\\n",
       "0  3668-QPYBK      1  United States  California  Los Angeles     90003   \n",
       "1  9237-HQITU      1  United States  California  Los Angeles     90005   \n",
       "2  9305-CDSKC      1  United States  California  Los Angeles     90006   \n",
       "3  7892-POOKP      1  United States  California  Los Angeles     90010   \n",
       "4  0280-XJGEX      1  United States  California  Los Angeles     90015   \n",
       "\n",
       "                 Lat Long   Latitude   Longitude  Gender  ...        Contract  \\\n",
       "0  33.964131, -118.272783  33.964131 -118.272783    Male  ...  Month-to-month   \n",
       "1   34.059281, -118.30742  34.059281 -118.307420  Female  ...  Month-to-month   \n",
       "2  34.048013, -118.293953  34.048013 -118.293953  Female  ...  Month-to-month   \n",
       "3  34.062125, -118.315709  34.062125 -118.315709  Female  ...  Month-to-month   \n",
       "4  34.039224, -118.266293  34.039224 -118.266293    Male  ...  Month-to-month   \n",
       "\n",
       "  Paperless Billing             Payment Method  Monthly Charges Total Charges  \\\n",
       "0               Yes               Mailed check            53.85        108.15   \n",
       "1               Yes           Electronic check            70.70        151.65   \n",
       "2               Yes           Electronic check            99.65         820.5   \n",
       "3               Yes           Electronic check           104.80       3046.05   \n",
       "4               Yes  Bank transfer (automatic)           103.70        5036.3   \n",
       "\n",
       "  Churn Label Churn Value Churn Score  CLTV                   Churn Reason  \n",
       "0         Yes           1          86  3239   Competitor made better offer  \n",
       "1         Yes           1          67  2701                          Moved  \n",
       "2         Yes           1          86  5372                          Moved  \n",
       "3         Yes           1          84  5003                          Moved  \n",
       "4         Yes           1          89  5340  Competitor had better devices  \n",
       "\n",
       "[5 rows x 33 columns]"
      ]
     },
     "execution_count": 7,
     "metadata": {},
     "output_type": "execute_result"
    }
   ],
   "source": [
    "print(f\"Data Shape: {train.shape}\")\n",
    "train.info()\n",
    "train.head()"
   ]
  },
  {
   "cell_type": "code",
   "execution_count": 8,
   "id": "d1d640fc-0c8a-4a8e-aad3-4fcb59e34b0c",
   "metadata": {},
   "outputs": [
    {
     "name": "stdout",
     "output_type": "stream",
     "text": [
      "Train Churn: Churn Value\n",
      "0    0.73463\n",
      "1    0.26537\n",
      "Name: count, dtype: float64\n"
     ]
    }
   ],
   "source": [
    "train_churn_rate = train[\"Churn Value\"].value_counts() / len(train)\n",
    "print(f\"Train Churn: {train_churn_rate}\")"
   ]
  },
  {
   "cell_type": "markdown",
   "id": "fcd83d25-0e49-4e0e-bc73-b74a31024974",
   "metadata": {},
   "source": [
    "### Handle Missing Data"
   ]
  },
  {
   "cell_type": "code",
   "execution_count": 9,
   "id": "9a993a66-ba88-4b1a-8058-7dfe4f1cee23",
   "metadata": {},
   "outputs": [
    {
     "name": "stdout",
     "output_type": "stream",
     "text": [
      "Missing Data\n",
      "Churn Reason 5174\n"
     ]
    }
   ],
   "source": [
    "print(\"Missing Data\")\n",
    "missing = list()\n",
    "for x in train.columns:\n",
    "    null_sum = train[x].isnull().sum()\n",
    "    if null_sum != 0:\n",
    "        print(x, null_sum)\n",
    "        missing.append(x)"
   ]
  },
  {
   "cell_type": "markdown",
   "id": "3b3b3cb8-383e-47d2-935d-8a80ff32b029",
   "metadata": {},
   "source": [
    "We're replacing missing values with zeros instead of removing them. Another method is filling missing values with a single number like zero, or through imputation or interpolation from existing values. Pandas simplifies this with the fillna() method, replacing null values with a specified value."
   ]
  },
  {
   "cell_type": "code",
   "execution_count": 10,
   "id": "d4a29b08-68db-49d9-ac78-e423d39d42d6",
   "metadata": {},
   "outputs": [
    {
     "name": "stdout",
     "output_type": "stream",
     "text": [
      "      CustomerID  Count        Country       State          City  Zip Code  \\\n",
      "0     3668-QPYBK      1  United States  California   Los Angeles     90003   \n",
      "1     9237-HQITU      1  United States  California   Los Angeles     90005   \n",
      "2     9305-CDSKC      1  United States  California   Los Angeles     90006   \n",
      "3     7892-POOKP      1  United States  California   Los Angeles     90010   \n",
      "4     0280-XJGEX      1  United States  California   Los Angeles     90015   \n",
      "...          ...    ...            ...         ...           ...       ...   \n",
      "7038  2569-WGERO      1  United States  California       Landers     92285   \n",
      "7039  6840-RESVB      1  United States  California      Adelanto     92301   \n",
      "7040  2234-XADUH      1  United States  California         Amboy     92304   \n",
      "7041  4801-JZAZL      1  United States  California  Angelus Oaks     92305   \n",
      "7042  3186-AJIEK      1  United States  California  Apple Valley     92308   \n",
      "\n",
      "                    Lat Long   Latitude   Longitude  Gender  ...  \\\n",
      "0     33.964131, -118.272783  33.964131 -118.272783    Male  ...   \n",
      "1      34.059281, -118.30742  34.059281 -118.307420  Female  ...   \n",
      "2     34.048013, -118.293953  34.048013 -118.293953  Female  ...   \n",
      "3     34.062125, -118.315709  34.062125 -118.315709  Female  ...   \n",
      "4     34.039224, -118.266293  34.039224 -118.266293    Male  ...   \n",
      "...                      ...        ...         ...     ...  ...   \n",
      "7038  34.341737, -116.539416  34.341737 -116.539416  Female  ...   \n",
      "7039  34.667815, -117.536183  34.667815 -117.536183    Male  ...   \n",
      "7040  34.559882, -115.637164  34.559882 -115.637164  Female  ...   \n",
      "7041     34.1678, -116.86433  34.167800 -116.864330  Female  ...   \n",
      "7042  34.424926, -117.184503  34.424926 -117.184503    Male  ...   \n",
      "\n",
      "            Contract Paperless Billing             Payment Method  \\\n",
      "0     Month-to-month               Yes               Mailed check   \n",
      "1     Month-to-month               Yes           Electronic check   \n",
      "2     Month-to-month               Yes           Electronic check   \n",
      "3     Month-to-month               Yes           Electronic check   \n",
      "4     Month-to-month               Yes  Bank transfer (automatic)   \n",
      "...              ...               ...                        ...   \n",
      "7038        Two year               Yes  Bank transfer (automatic)   \n",
      "7039        One year               Yes               Mailed check   \n",
      "7040        One year               Yes    Credit card (automatic)   \n",
      "7041  Month-to-month               Yes           Electronic check   \n",
      "7042        Two year               Yes  Bank transfer (automatic)   \n",
      "\n",
      "      Monthly Charges Total Charges Churn Label Churn Value Churn Score  CLTV  \\\n",
      "0               53.85        108.15         Yes           1          86  3239   \n",
      "1               70.70        151.65         Yes           1          67  2701   \n",
      "2               99.65         820.5         Yes           1          86  5372   \n",
      "3              104.80       3046.05         Yes           1          84  5003   \n",
      "4              103.70        5036.3         Yes           1          89  5340   \n",
      "...               ...           ...         ...         ...         ...   ...   \n",
      "7038            21.15        1419.4          No           0          45  5306   \n",
      "7039            84.80        1990.5          No           0          59  2140   \n",
      "7040           103.20        7362.9          No           0          71  5560   \n",
      "7041            29.60        346.45          No           0          59  2793   \n",
      "7042           105.65        6844.5          No           0          38  5097   \n",
      "\n",
      "                       Churn Reason  \n",
      "0      Competitor made better offer  \n",
      "1                             Moved  \n",
      "2                             Moved  \n",
      "3                             Moved  \n",
      "4     Competitor had better devices  \n",
      "...                             ...  \n",
      "7038                              0  \n",
      "7039                              0  \n",
      "7040                              0  \n",
      "7041                              0  \n",
      "7042                              0  \n",
      "\n",
      "[7043 rows x 33 columns]\n"
     ]
    }
   ],
   "source": [
    "train.replace(np.nan, 0, inplace=True)\n",
    "\n",
    "print(train)"
   ]
  },
  {
   "cell_type": "markdown",
   "id": "e2696224-2527-493f-b784-9c2f4f4278c2",
   "metadata": {},
   "source": [
    "### Feature Engineering"
   ]
  },
  {
   "cell_type": "code",
   "execution_count": 11,
   "id": "9de44cb5-eec3-4b53-95e1-8506dea44144",
   "metadata": {},
   "outputs": [
    {
     "name": "stdout",
     "output_type": "stream",
     "text": [
      "Country                 1\n",
      "State                   1\n",
      "City                 1129\n",
      "Zip Code             1652\n",
      "Gender                  2\n",
      "Senior Citizen          2\n",
      "Partner                 2\n",
      "Dependents              2\n",
      "Tenure Months          73\n",
      "Phone Service           2\n",
      "Multiple Lines          3\n",
      "Internet Service        3\n",
      "Online Security         3\n",
      "Online Backup           3\n",
      "Device Protection       3\n",
      "Tech Support            3\n",
      "Streaming TV            3\n",
      "Streaming Movies        3\n",
      "Contract                3\n",
      "Paperless Billing       2\n",
      "Payment Method          4\n",
      "Monthly Charges      1585\n",
      "Total Charges        6531\n",
      "Churn                   2\n",
      "Churn Score            85\n",
      "CLTV                 3438\n",
      "dtype: int64\n"
     ]
    }
   ],
   "source": [
    "from sklearn.preprocessing import OrdinalEncoder\n",
    "\n",
    "# Drop customerID as it's unique for every value\n",
    "# Drop count, country, state as it's same for all\n",
    "# Drop lat, long as we have zip code\n",
    "# Drop Churn Label as we have Churn Value\n",
    "# Drop Churn Reason as it's implicit\n",
    "\n",
    "train_target = train.drop(columns=['CustomerID','Count', 'Lat Long', 'Latitude', 'Longitude', 'Churn Label', 'Churn Reason'], axis=1)\n",
    "train_target.rename(columns={\"Churn Value\": \"Churn\"}, inplace=True)\n",
    "\n",
    "print(train_target.nunique())\n"
   ]
  },
  {
   "cell_type": "code",
   "execution_count": 12,
   "id": "20a30d2b-c5e7-4d79-bfbd-210ed0643d01",
   "metadata": {},
   "outputs": [],
   "source": [
    "# Encode binary columns\n",
    "columns_to_encode = [\n",
    "    'Gender', 'Senior Citizen', 'Partner', 'Dependents', 'Phone Service',\n",
    "    'Paperless Billing'\n",
    "]\n",
    "\n",
    "encoder = OrdinalEncoder()\n",
    "\n",
    "# Fit and transform the specified columns\n",
    "encoded_values = encoder.fit_transform(train_target[columns_to_encode]) + 1\n",
    "\n",
    "# Replace the original columns with the encoded values in the DataFrame\n",
    "train_target[columns_to_encode] = encoded_values\n"
   ]
  },
  {
   "cell_type": "code",
   "execution_count": 13,
   "id": "840952e8-eb95-43ff-8317-b9c9b0bc6506",
   "metadata": {},
   "outputs": [
    {
     "data": {
      "text/html": [
       "<div>\n",
       "<style scoped>\n",
       "    .dataframe tbody tr th:only-of-type {\n",
       "        vertical-align: middle;\n",
       "    }\n",
       "\n",
       "    .dataframe tbody tr th {\n",
       "        vertical-align: top;\n",
       "    }\n",
       "\n",
       "    .dataframe thead th {\n",
       "        text-align: right;\n",
       "    }\n",
       "</style>\n",
       "<table border=\"1\" class=\"dataframe\">\n",
       "  <thead>\n",
       "    <tr style=\"text-align: right;\">\n",
       "      <th></th>\n",
       "      <th>Country</th>\n",
       "      <th>State</th>\n",
       "      <th>City</th>\n",
       "      <th>Zip Code</th>\n",
       "      <th>Gender</th>\n",
       "      <th>Senior Citizen</th>\n",
       "      <th>Partner</th>\n",
       "      <th>Dependents</th>\n",
       "      <th>Tenure Months</th>\n",
       "      <th>Phone Service</th>\n",
       "      <th>...</th>\n",
       "      <th>Streaming TV</th>\n",
       "      <th>Streaming Movies</th>\n",
       "      <th>Contract</th>\n",
       "      <th>Paperless Billing</th>\n",
       "      <th>Payment Method</th>\n",
       "      <th>Monthly Charges</th>\n",
       "      <th>Total Charges</th>\n",
       "      <th>Churn</th>\n",
       "      <th>Churn Score</th>\n",
       "      <th>CLTV</th>\n",
       "    </tr>\n",
       "  </thead>\n",
       "  <tbody>\n",
       "    <tr>\n",
       "      <th>0</th>\n",
       "      <td>United States</td>\n",
       "      <td>California</td>\n",
       "      <td>Los Angeles</td>\n",
       "      <td>90003</td>\n",
       "      <td>2.0</td>\n",
       "      <td>1.0</td>\n",
       "      <td>1.0</td>\n",
       "      <td>1.0</td>\n",
       "      <td>2</td>\n",
       "      <td>2.0</td>\n",
       "      <td>...</td>\n",
       "      <td>No</td>\n",
       "      <td>No</td>\n",
       "      <td>Month-to-month</td>\n",
       "      <td>2.0</td>\n",
       "      <td>Mailed check</td>\n",
       "      <td>53.85</td>\n",
       "      <td>108.15</td>\n",
       "      <td>1</td>\n",
       "      <td>86</td>\n",
       "      <td>3239</td>\n",
       "    </tr>\n",
       "    <tr>\n",
       "      <th>1</th>\n",
       "      <td>United States</td>\n",
       "      <td>California</td>\n",
       "      <td>Los Angeles</td>\n",
       "      <td>90005</td>\n",
       "      <td>1.0</td>\n",
       "      <td>1.0</td>\n",
       "      <td>1.0</td>\n",
       "      <td>2.0</td>\n",
       "      <td>2</td>\n",
       "      <td>2.0</td>\n",
       "      <td>...</td>\n",
       "      <td>No</td>\n",
       "      <td>No</td>\n",
       "      <td>Month-to-month</td>\n",
       "      <td>2.0</td>\n",
       "      <td>Electronic check</td>\n",
       "      <td>70.70</td>\n",
       "      <td>151.65</td>\n",
       "      <td>1</td>\n",
       "      <td>67</td>\n",
       "      <td>2701</td>\n",
       "    </tr>\n",
       "    <tr>\n",
       "      <th>2</th>\n",
       "      <td>United States</td>\n",
       "      <td>California</td>\n",
       "      <td>Los Angeles</td>\n",
       "      <td>90006</td>\n",
       "      <td>1.0</td>\n",
       "      <td>1.0</td>\n",
       "      <td>1.0</td>\n",
       "      <td>2.0</td>\n",
       "      <td>8</td>\n",
       "      <td>2.0</td>\n",
       "      <td>...</td>\n",
       "      <td>Yes</td>\n",
       "      <td>Yes</td>\n",
       "      <td>Month-to-month</td>\n",
       "      <td>2.0</td>\n",
       "      <td>Electronic check</td>\n",
       "      <td>99.65</td>\n",
       "      <td>820.5</td>\n",
       "      <td>1</td>\n",
       "      <td>86</td>\n",
       "      <td>5372</td>\n",
       "    </tr>\n",
       "    <tr>\n",
       "      <th>3</th>\n",
       "      <td>United States</td>\n",
       "      <td>California</td>\n",
       "      <td>Los Angeles</td>\n",
       "      <td>90010</td>\n",
       "      <td>1.0</td>\n",
       "      <td>1.0</td>\n",
       "      <td>2.0</td>\n",
       "      <td>2.0</td>\n",
       "      <td>28</td>\n",
       "      <td>2.0</td>\n",
       "      <td>...</td>\n",
       "      <td>Yes</td>\n",
       "      <td>Yes</td>\n",
       "      <td>Month-to-month</td>\n",
       "      <td>2.0</td>\n",
       "      <td>Electronic check</td>\n",
       "      <td>104.80</td>\n",
       "      <td>3046.05</td>\n",
       "      <td>1</td>\n",
       "      <td>84</td>\n",
       "      <td>5003</td>\n",
       "    </tr>\n",
       "    <tr>\n",
       "      <th>4</th>\n",
       "      <td>United States</td>\n",
       "      <td>California</td>\n",
       "      <td>Los Angeles</td>\n",
       "      <td>90015</td>\n",
       "      <td>2.0</td>\n",
       "      <td>1.0</td>\n",
       "      <td>1.0</td>\n",
       "      <td>2.0</td>\n",
       "      <td>49</td>\n",
       "      <td>2.0</td>\n",
       "      <td>...</td>\n",
       "      <td>Yes</td>\n",
       "      <td>Yes</td>\n",
       "      <td>Month-to-month</td>\n",
       "      <td>2.0</td>\n",
       "      <td>Bank transfer (automatic)</td>\n",
       "      <td>103.70</td>\n",
       "      <td>5036.3</td>\n",
       "      <td>1</td>\n",
       "      <td>89</td>\n",
       "      <td>5340</td>\n",
       "    </tr>\n",
       "  </tbody>\n",
       "</table>\n",
       "<p>5 rows × 26 columns</p>\n",
       "</div>"
      ],
      "text/plain": [
       "         Country       State         City  Zip Code  Gender  Senior Citizen  \\\n",
       "0  United States  California  Los Angeles     90003     2.0             1.0   \n",
       "1  United States  California  Los Angeles     90005     1.0             1.0   \n",
       "2  United States  California  Los Angeles     90006     1.0             1.0   \n",
       "3  United States  California  Los Angeles     90010     1.0             1.0   \n",
       "4  United States  California  Los Angeles     90015     2.0             1.0   \n",
       "\n",
       "   Partner  Dependents  Tenure Months  Phone Service  ... Streaming TV  \\\n",
       "0      1.0         1.0              2            2.0  ...           No   \n",
       "1      1.0         2.0              2            2.0  ...           No   \n",
       "2      1.0         2.0              8            2.0  ...          Yes   \n",
       "3      2.0         2.0             28            2.0  ...          Yes   \n",
       "4      1.0         2.0             49            2.0  ...          Yes   \n",
       "\n",
       "  Streaming Movies        Contract Paperless Billing  \\\n",
       "0               No  Month-to-month               2.0   \n",
       "1               No  Month-to-month               2.0   \n",
       "2              Yes  Month-to-month               2.0   \n",
       "3              Yes  Month-to-month               2.0   \n",
       "4              Yes  Month-to-month               2.0   \n",
       "\n",
       "              Payment Method Monthly Charges Total Charges Churn Churn Score  \\\n",
       "0               Mailed check           53.85        108.15     1          86   \n",
       "1           Electronic check           70.70        151.65     1          67   \n",
       "2           Electronic check           99.65         820.5     1          86   \n",
       "3           Electronic check          104.80       3046.05     1          84   \n",
       "4  Bank transfer (automatic)          103.70        5036.3     1          89   \n",
       "\n",
       "   CLTV  \n",
       "0  3239  \n",
       "1  2701  \n",
       "2  5372  \n",
       "3  5003  \n",
       "4  5340  \n",
       "\n",
       "[5 rows x 26 columns]"
      ]
     },
     "execution_count": 13,
     "metadata": {},
     "output_type": "execute_result"
    }
   ],
   "source": [
    "train_target.head()"
   ]
  },
  {
   "cell_type": "markdown",
   "id": "f11a170b-784b-4a8c-9fab-9995dc2a1782",
   "metadata": {},
   "source": [
    "### (Optional) Turn Categorised Items to Numbers for easier processing for MLP to use as a baseline"
   ]
  },
  {
   "cell_type": "code",
   "execution_count": 14,
   "id": "73efb827-af24-43b5-b63a-ceb792c2e277",
   "metadata": {},
   "outputs": [],
   "source": [
    "from sklearn.preprocessing import LabelEncoder\n",
    "le = LabelEncoder()\n",
    "def FunLabelEncoder(df):\n",
    "    for c in df.columns:\n",
    "        if df.dtypes[c] == object:\n",
    "            le.fit(df[c].astype(str))\n",
    "            df[c] = le.transform(df[c].astype(str))\n",
    "    return df"
   ]
  },
  {
   "cell_type": "code",
   "execution_count": 15,
   "id": "a73273e4-5764-47e0-8a8e-deb18f243220",
   "metadata": {
    "scrolled": true
   },
   "outputs": [
    {
     "name": "stdout",
     "output_type": "stream",
     "text": [
      "<class 'pandas.core.frame.DataFrame'>\n",
      "RangeIndex: 7043 entries, 0 to 7042\n",
      "Data columns (total 26 columns):\n",
      " #   Column             Non-Null Count  Dtype  \n",
      "---  ------             --------------  -----  \n",
      " 0   Country            7043 non-null   int64  \n",
      " 1   State              7043 non-null   int64  \n",
      " 2   City               7043 non-null   int64  \n",
      " 3   Zip Code           7043 non-null   int64  \n",
      " 4   Gender             7043 non-null   float64\n",
      " 5   Senior Citizen     7043 non-null   float64\n",
      " 6   Partner            7043 non-null   float64\n",
      " 7   Dependents         7043 non-null   float64\n",
      " 8   Tenure Months      7043 non-null   int64  \n",
      " 9   Phone Service      7043 non-null   float64\n",
      " 10  Multiple Lines     7043 non-null   int64  \n",
      " 11  Internet Service   7043 non-null   int64  \n",
      " 12  Online Security    7043 non-null   int64  \n",
      " 13  Online Backup      7043 non-null   int64  \n",
      " 14  Device Protection  7043 non-null   int64  \n",
      " 15  Tech Support       7043 non-null   int64  \n",
      " 16  Streaming TV       7043 non-null   int64  \n",
      " 17  Streaming Movies   7043 non-null   int64  \n",
      " 18  Contract           7043 non-null   int64  \n",
      " 19  Paperless Billing  7043 non-null   float64\n",
      " 20  Payment Method     7043 non-null   int64  \n",
      " 21  Monthly Charges    7043 non-null   float64\n",
      " 22  Total Charges      7043 non-null   int64  \n",
      " 23  Churn              7043 non-null   int64  \n",
      " 24  Churn Score        7043 non-null   int64  \n",
      " 25  CLTV               7043 non-null   int64  \n",
      "dtypes: float64(7), int64(19)\n",
      "memory usage: 1.4 MB\n"
     ]
    }
   ],
   "source": [
    "train_mlp = FunLabelEncoder(train_target.copy())\n",
    "train_mlp.info()"
   ]
  },
  {
   "cell_type": "code",
   "execution_count": 16,
   "id": "045b3df3-f8e8-44b7-afaf-c31b1b30474f",
   "metadata": {
    "scrolled": true
   },
   "outputs": [
    {
     "data": {
      "text/html": [
       "<div>\n",
       "<style scoped>\n",
       "    .dataframe tbody tr th:only-of-type {\n",
       "        vertical-align: middle;\n",
       "    }\n",
       "\n",
       "    .dataframe tbody tr th {\n",
       "        vertical-align: top;\n",
       "    }\n",
       "\n",
       "    .dataframe thead th {\n",
       "        text-align: right;\n",
       "    }\n",
       "</style>\n",
       "<table border=\"1\" class=\"dataframe\">\n",
       "  <thead>\n",
       "    <tr style=\"text-align: right;\">\n",
       "      <th></th>\n",
       "      <th>Country</th>\n",
       "      <th>State</th>\n",
       "      <th>City</th>\n",
       "      <th>Zip Code</th>\n",
       "      <th>Gender</th>\n",
       "      <th>Senior Citizen</th>\n",
       "      <th>Partner</th>\n",
       "      <th>Dependents</th>\n",
       "      <th>Tenure Months</th>\n",
       "      <th>Phone Service</th>\n",
       "      <th>...</th>\n",
       "      <th>Streaming TV</th>\n",
       "      <th>Streaming Movies</th>\n",
       "      <th>Contract</th>\n",
       "      <th>Paperless Billing</th>\n",
       "      <th>Payment Method</th>\n",
       "      <th>Monthly Charges</th>\n",
       "      <th>Total Charges</th>\n",
       "      <th>Churn</th>\n",
       "      <th>Churn Score</th>\n",
       "      <th>CLTV</th>\n",
       "    </tr>\n",
       "  </thead>\n",
       "  <tbody>\n",
       "    <tr>\n",
       "      <th>0</th>\n",
       "      <td>0</td>\n",
       "      <td>0</td>\n",
       "      <td>562</td>\n",
       "      <td>90003</td>\n",
       "      <td>2.0</td>\n",
       "      <td>1.0</td>\n",
       "      <td>1.0</td>\n",
       "      <td>1.0</td>\n",
       "      <td>2</td>\n",
       "      <td>2.0</td>\n",
       "      <td>...</td>\n",
       "      <td>0</td>\n",
       "      <td>0</td>\n",
       "      <td>0</td>\n",
       "      <td>2.0</td>\n",
       "      <td>3</td>\n",
       "      <td>53.85</td>\n",
       "      <td>157</td>\n",
       "      <td>1</td>\n",
       "      <td>86</td>\n",
       "      <td>3239</td>\n",
       "    </tr>\n",
       "    <tr>\n",
       "      <th>1</th>\n",
       "      <td>0</td>\n",
       "      <td>0</td>\n",
       "      <td>562</td>\n",
       "      <td>90005</td>\n",
       "      <td>1.0</td>\n",
       "      <td>1.0</td>\n",
       "      <td>1.0</td>\n",
       "      <td>2.0</td>\n",
       "      <td>2</td>\n",
       "      <td>2.0</td>\n",
       "      <td>...</td>\n",
       "      <td>0</td>\n",
       "      <td>0</td>\n",
       "      <td>0</td>\n",
       "      <td>2.0</td>\n",
       "      <td>2</td>\n",
       "      <td>70.70</td>\n",
       "      <td>925</td>\n",
       "      <td>1</td>\n",
       "      <td>67</td>\n",
       "      <td>2701</td>\n",
       "    </tr>\n",
       "    <tr>\n",
       "      <th>2</th>\n",
       "      <td>0</td>\n",
       "      <td>0</td>\n",
       "      <td>562</td>\n",
       "      <td>90006</td>\n",
       "      <td>1.0</td>\n",
       "      <td>1.0</td>\n",
       "      <td>1.0</td>\n",
       "      <td>2.0</td>\n",
       "      <td>8</td>\n",
       "      <td>2.0</td>\n",
       "      <td>...</td>\n",
       "      <td>2</td>\n",
       "      <td>2</td>\n",
       "      <td>0</td>\n",
       "      <td>2.0</td>\n",
       "      <td>2</td>\n",
       "      <td>99.65</td>\n",
       "      <td>6104</td>\n",
       "      <td>1</td>\n",
       "      <td>86</td>\n",
       "      <td>5372</td>\n",
       "    </tr>\n",
       "    <tr>\n",
       "      <th>3</th>\n",
       "      <td>0</td>\n",
       "      <td>0</td>\n",
       "      <td>562</td>\n",
       "      <td>90010</td>\n",
       "      <td>1.0</td>\n",
       "      <td>1.0</td>\n",
       "      <td>2.0</td>\n",
       "      <td>2.0</td>\n",
       "      <td>28</td>\n",
       "      <td>2.0</td>\n",
       "      <td>...</td>\n",
       "      <td>2</td>\n",
       "      <td>2</td>\n",
       "      <td>0</td>\n",
       "      <td>2.0</td>\n",
       "      <td>2</td>\n",
       "      <td>104.80</td>\n",
       "      <td>2646</td>\n",
       "      <td>1</td>\n",
       "      <td>84</td>\n",
       "      <td>5003</td>\n",
       "    </tr>\n",
       "    <tr>\n",
       "      <th>4</th>\n",
       "      <td>0</td>\n",
       "      <td>0</td>\n",
       "      <td>562</td>\n",
       "      <td>90015</td>\n",
       "      <td>2.0</td>\n",
       "      <td>1.0</td>\n",
       "      <td>1.0</td>\n",
       "      <td>2.0</td>\n",
       "      <td>49</td>\n",
       "      <td>2.0</td>\n",
       "      <td>...</td>\n",
       "      <td>2</td>\n",
       "      <td>2</td>\n",
       "      <td>0</td>\n",
       "      <td>2.0</td>\n",
       "      <td>0</td>\n",
       "      <td>103.70</td>\n",
       "      <td>4265</td>\n",
       "      <td>1</td>\n",
       "      <td>89</td>\n",
       "      <td>5340</td>\n",
       "    </tr>\n",
       "  </tbody>\n",
       "</table>\n",
       "<p>5 rows × 26 columns</p>\n",
       "</div>"
      ],
      "text/plain": [
       "   Country  State  City  Zip Code  Gender  Senior Citizen  Partner  \\\n",
       "0        0      0   562     90003     2.0             1.0      1.0   \n",
       "1        0      0   562     90005     1.0             1.0      1.0   \n",
       "2        0      0   562     90006     1.0             1.0      1.0   \n",
       "3        0      0   562     90010     1.0             1.0      2.0   \n",
       "4        0      0   562     90015     2.0             1.0      1.0   \n",
       "\n",
       "   Dependents  Tenure Months  Phone Service  ...  Streaming TV  \\\n",
       "0         1.0              2            2.0  ...             0   \n",
       "1         2.0              2            2.0  ...             0   \n",
       "2         2.0              8            2.0  ...             2   \n",
       "3         2.0             28            2.0  ...             2   \n",
       "4         2.0             49            2.0  ...             2   \n",
       "\n",
       "   Streaming Movies  Contract  Paperless Billing  Payment Method  \\\n",
       "0                 0         0                2.0               3   \n",
       "1                 0         0                2.0               2   \n",
       "2                 2         0                2.0               2   \n",
       "3                 2         0                2.0               2   \n",
       "4                 2         0                2.0               0   \n",
       "\n",
       "   Monthly Charges  Total Charges  Churn  Churn Score  CLTV  \n",
       "0            53.85            157      1           86  3239  \n",
       "1            70.70            925      1           67  2701  \n",
       "2            99.65           6104      1           86  5372  \n",
       "3           104.80           2646      1           84  5003  \n",
       "4           103.70           4265      1           89  5340  \n",
       "\n",
       "[5 rows x 26 columns]"
      ]
     },
     "execution_count": 16,
     "metadata": {},
     "output_type": "execute_result"
    }
   ],
   "source": [
    "train_mlp.head()"
   ]
  },
  {
   "cell_type": "markdown",
   "id": "df96fb79-d027-49b3-9e62-f4826b695363",
   "metadata": {},
   "source": [
    "### Create the cat_index.json for categorical values"
   ]
  },
  {
   "cell_type": "code",
   "execution_count": 17,
   "id": "cb705f27-d42a-41a4-bb30-676847278921",
   "metadata": {},
   "outputs": [
    {
     "name": "stdout",
     "output_type": "stream",
     "text": [
      "   Churn        Country       State         City  Zip Code  Gender  \\\n",
      "0      1  United States  California  Los Angeles     90003     2.0   \n",
      "1      1  United States  California  Los Angeles     90005     1.0   \n",
      "2      1  United States  California  Los Angeles     90006     1.0   \n",
      "3      1  United States  California  Los Angeles     90010     1.0   \n",
      "4      1  United States  California  Los Angeles     90015     2.0   \n",
      "\n",
      "   Senior Citizen  Partner  Dependents  Tenure Months  ...  Tech Support  \\\n",
      "0             1.0      1.0         1.0              2  ...            No   \n",
      "1             1.0      1.0         2.0              2  ...            No   \n",
      "2             1.0      1.0         2.0              8  ...            No   \n",
      "3             1.0      2.0         2.0             28  ...           Yes   \n",
      "4             1.0      1.0         2.0             49  ...            No   \n",
      "\n",
      "  Streaming TV Streaming Movies        Contract Paperless Billing  \\\n",
      "0           No               No  Month-to-month               2.0   \n",
      "1           No               No  Month-to-month               2.0   \n",
      "2          Yes              Yes  Month-to-month               2.0   \n",
      "3          Yes              Yes  Month-to-month               2.0   \n",
      "4          Yes              Yes  Month-to-month               2.0   \n",
      "\n",
      "              Payment Method Monthly Charges Total Charges Churn Score  CLTV  \n",
      "0               Mailed check           53.85        108.15          86  3239  \n",
      "1           Electronic check           70.70        151.65          67  2701  \n",
      "2           Electronic check           99.65         820.5          86  5372  \n",
      "3           Electronic check          104.80       3046.05          84  5003  \n",
      "4  Bank transfer (automatic)          103.70        5036.3          89  5340  \n",
      "\n",
      "[5 rows x 26 columns]\n"
     ]
    }
   ],
   "source": [
    "# Move Churn to first column\n",
    "churn_col = train_target.pop(\"Churn\")\n",
    "train_target.insert(0, churn_col.name, churn_col)\n",
    "\n",
    "print(train_target.head())"
   ]
  },
  {
   "cell_type": "code",
   "execution_count": 18,
   "id": "006aa5d7-e0b2-4ec9-9839-a043d911dc40",
   "metadata": {},
   "outputs": [
    {
     "name": "stdout",
     "output_type": "stream",
     "text": [
      "<class 'pandas.core.frame.DataFrame'>\n",
      "RangeIndex: 7043 entries, 0 to 7042\n",
      "Data columns (total 26 columns):\n",
      " #   Column             Non-Null Count  Dtype  \n",
      "---  ------             --------------  -----  \n",
      " 0   Churn              7043 non-null   int64  \n",
      " 1   Country            7043 non-null   object \n",
      " 2   State              7043 non-null   object \n",
      " 3   City               7043 non-null   object \n",
      " 4   Zip Code           7043 non-null   int64  \n",
      " 5   Gender             7043 non-null   float64\n",
      " 6   Senior Citizen     7043 non-null   float64\n",
      " 7   Partner            7043 non-null   float64\n",
      " 8   Dependents         7043 non-null   float64\n",
      " 9   Tenure Months      7043 non-null   int64  \n",
      " 10  Phone Service      7043 non-null   float64\n",
      " 11  Multiple Lines     7043 non-null   object \n",
      " 12  Internet Service   7043 non-null   object \n",
      " 13  Online Security    7043 non-null   object \n",
      " 14  Online Backup      7043 non-null   object \n",
      " 15  Device Protection  7043 non-null   object \n",
      " 16  Tech Support       7043 non-null   object \n",
      " 17  Streaming TV       7043 non-null   object \n",
      " 18  Streaming Movies   7043 non-null   object \n",
      " 19  Contract           7043 non-null   object \n",
      " 20  Paperless Billing  7043 non-null   float64\n",
      " 21  Payment Method     7043 non-null   object \n",
      " 22  Monthly Charges    7043 non-null   float64\n",
      " 23  Total Charges      7043 non-null   object \n",
      " 24  Churn Score        7043 non-null   int64  \n",
      " 25  CLTV               7043 non-null   int64  \n",
      "dtypes: float64(7), int64(5), object(14)\n",
      "memory usage: 1.4+ MB\n"
     ]
    }
   ],
   "source": [
    "train_target.info()"
   ]
  },
  {
   "cell_type": "code",
   "execution_count": 20,
   "id": "53cc894f-c509-4926-ba6a-35a1a770a146",
   "metadata": {},
   "outputs": [
    {
     "name": "stdout",
     "output_type": "stream",
     "text": [
      "[1, 2, 3, 11, 12, 13, 14, 15, 16, 17, 18, 19, 21, 23]\n"
     ]
    }
   ],
   "source": [
    "# Select columns with object dtype, which are usually categorical\n",
    "categorical_columns = train_target.select_dtypes(include=['object']).columns\n",
    "\n",
    "# Get the column indexes\n",
    "categorical_indexes = [train_target.columns.get_loc(col) for col in categorical_columns]\n",
    "\n",
    "# Display the categorical column indexes\n",
    "print(categorical_indexes)"
   ]
  },
  {
   "cell_type": "markdown",
   "id": "2b185fa0-aa03-43e9-a8d3-c8020d81c079",
   "metadata": {},
   "source": [
    "### Split the data for training and validation"
   ]
  },
  {
   "cell_type": "code",
   "execution_count": 21,
   "id": "32f31e61-5377-4d85-9264-3adb446da843",
   "metadata": {},
   "outputs": [
    {
     "name": "stdout",
     "output_type": "stream",
     "text": [
      "train shape:  (5634, 26)\n",
      "validation shape:  (1409, 26)\n"
     ]
    }
   ],
   "source": [
    "from sklearn.model_selection import train_test_split\n",
    "# 80/20 split\n",
    "train_data, validation_data = train_test_split(train_target, test_size=0.2, random_state=42)\n",
    "\n",
    "print('train shape: ', train_data.shape)\n",
    "print('validation shape: ', validation_data.shape)"
   ]
  },
  {
   "cell_type": "markdown",
   "id": "1619da96-ff98-483b-af18-87fdd5a37502",
   "metadata": {
    "editable": true,
    "slideshow": {
     "slide_type": ""
    },
    "tags": []
   },
   "source": [
    "#### Requirements for the training data\n",
    "\n",
    "A S3 path should contain two sub-directories 'train/', 'validation/' (optional), and a json-format file named 'categorical_index.json' (optional). Each sub-directory contains a 'data.csv' file (The ABALONE dataset used in this example has been prepared and saved in `training_dataset_s3_path` shown below).\n",
    "\n",
    "* The 'data.csv' files under sub-directory 'train/' and 'validation/' are for training and validation, respectively. The validation data is used to compute a validation score at the end of each boosting iteration. An early stopping is applied when the validation score stops improving. If the validation data is not provided, a 20% of training data is randomly sampled to serve as the validation data.\n",
    "\n",
    "* The first column of the 'data.csv' should have the corresponding target variable. The rest of other columns should have the corresponding predictor variables (features).\n",
    "\n",
    "* If the predictors include categorical feature(s), a json-format file named 'categorical_index.json' should be included in the input directory to indicate the column index(es) of the categorical features. Within the json-format file, it should have a python directory where the key is a string of 'cat_index_list' and the value is a list of unique integer(s). Each integer in the list indicates the column index of categorical features in the 'data.csv'. The range of each integer should be more than 0 (index 0 indicates the target) and less than the total number of columns. If the data set does not contain any categorical feature, the TabTransformer algorithm is equivalently a multi-layer perceptron (MLP).\n",
    "\n",
    "* The target column must be encoded as non-negative integers (```int```) less than ```Int32.MaxValue``` (2147483647). It is best to use a contiguous range of integers started from zero.\n",
    "\n",
    "* All the categorical features do not need to be encoded as non-negative integers and can be kept as their original formats.\n",
    "\n",
    "* Note. The number of json-format files should be no more than 1 in the input directory."
   ]
  },
  {
   "cell_type": "code",
   "execution_count": 22,
   "id": "c22e2dca-1173-4e94-a9fd-963705aa5a2d",
   "metadata": {
    "editable": true,
    "slideshow": {
     "slide_type": ""
    },
    "tags": []
   },
   "outputs": [
    {
     "name": "stdout",
     "output_type": "stream",
     "text": [
      "training dataset: s3://sagemaker-us-east-1-397799416488/telco/train\n",
      "validation dataset: s3://sagemaker-us-east-1-397799416488/telco/validation\n",
      "Output location: s3://sagemaker-us-east-1-397799416488/telco/tabtransformer-output/output\n",
      "Ensuring everything is alright...\n",
      "...Training Data\n",
      "      Churn        Country       State        City  Zip Code  Gender  \\\n",
      "2142      0  United States  California   San Diego     92119     2.0   \n",
      "1623      1  United States  California   Jamestown     95327     1.0   \n",
      "6074      0  United States  California  Littlerock     93543     1.0   \n",
      "\n",
      "      Senior Citizen  Partner  Dependents  Tenure Months  ...  Tech Support  \\\n",
      "2142             1.0      2.0         1.0             71  ...            No   \n",
      "1623             1.0      1.0         1.0             16  ...            No   \n",
      "6074             1.0      1.0         1.0             32  ...            No   \n",
      "\n",
      "     Streaming TV Streaming Movies        Contract Paperless Billing  \\\n",
      "2142          Yes              Yes        One year               2.0   \n",
      "1623           No              Yes  Month-to-month               2.0   \n",
      "6074          Yes              Yes        One year               2.0   \n",
      "\n",
      "               Payment Method Monthly Charges Total Charges Churn Score  CLTV  \n",
      "2142  Credit card (automatic)           98.65       6962.85          28  5101  \n",
      "1623  Credit card (automatic)           93.20        1573.7          75  5497  \n",
      "6074  Credit card (automatic)          104.05       3416.85          60  2335  \n",
      "\n",
      "[3 rows x 26 columns]\n",
      "...Validation Data\n",
      "      Churn        Country       State         City  Zip Code  Gender  \\\n",
      "185       1  United States  California        Keene     93531     1.0   \n",
      "2715      0  United States  California     Stockton     95207     2.0   \n",
      "3825      0  United States  California  San Leandro     94579     1.0   \n",
      "\n",
      "      Senior Citizen  Partner  Dependents  Tenure Months  ...  \\\n",
      "185              1.0      1.0         1.0             15  ...   \n",
      "2715             1.0      2.0         1.0             18  ...   \n",
      "3825             1.0      1.0         1.0              2  ...   \n",
      "\n",
      "             Tech Support         Streaming TV     Streaming Movies  \\\n",
      "185                    No                   No                  Yes   \n",
      "2715                   No                   No                   No   \n",
      "3825  No internet service  No internet service  No internet service   \n",
      "\n",
      "            Contract Paperless Billing             Payment Method  \\\n",
      "185   Month-to-month               2.0  Bank transfer (automatic)   \n",
      "2715  Month-to-month               1.0    Credit card (automatic)   \n",
      "3825  Month-to-month               2.0               Mailed check   \n",
      "\n",
      "     Monthly Charges Total Charges Churn Score  CLTV  \n",
      "185             85.9       1269.55          96  3579  \n",
      "2715            56.8       1074.65          59  5558  \n",
      "3825            20.0          40.9          39  2237  \n",
      "\n",
      "[3 rows x 26 columns]\n",
      "done..\n"
     ]
    }
   ],
   "source": [
    "# Upload training set, we don't need to upload the test set\n",
    "from io import StringIO\n",
    "import json\n",
    "\n",
    "# AWS S3 parameters\n",
    "training_data_bucket = \"sagemaker-us-east-1-397799416488\"\n",
    "training_data_prefix = \"telco/train\"\n",
    "target_training_data_file_name = \"data.csv\"\n",
    "\n",
    "validation_data_prefix = \"telco/validation\"\n",
    "target_validation_data_file_name = \"data.csv\"\n",
    "\n",
    "cat_index_prefix = \"telco/train\"\n",
    "cat_index_file_name = \"categorical_index.json\"\n",
    "\n",
    "# Convert DataFrame to CSV in memory\n",
    "csv_buffer_train = StringIO()\n",
    "train_data.to_csv(csv_buffer_train, header=None, index=False)\n",
    "\n",
    "csv_buffer_validation = StringIO()\n",
    "validation_data.to_csv(csv_buffer_validation, header=None, index=False)\n",
    "\n",
    "cat_index_data = {\"cat_index_list\": categorical_indexes}\n",
    "\n",
    "boto3.client(\"s3\").put_object(\n",
    "    Bucket=training_data_bucket,\n",
    "    Key=f\"{training_data_prefix}/{target_training_data_file_name}\",\n",
    "    Body=csv_buffer_train.getvalue()\n",
    ")\n",
    "\n",
    "boto3.client(\"s3\").put_object(\n",
    "    Bucket=training_data_bucket,\n",
    "    Key=f\"{validation_data_prefix}/{target_validation_data_file_name}\",\n",
    "    Body=csv_buffer_validation.getvalue()\n",
    ")\n",
    "\n",
    "# Write the dictionary to a JSON file\n",
    "with open(cat_index_file_name, 'w') as json_file:\n",
    "    json.dump(cat_index_data, json_file, indent=4)\n",
    "\n",
    "boto3.client(\"s3\").upload_file(\n",
    "    cat_index_file_name,\n",
    "    training_data_bucket,\n",
    "    f\"{cat_index_prefix}/{cat_index_file_name}\"\n",
    ")\n",
    "\n",
    "\n",
    "training_dataset_s3_path = f\"s3://{training_data_bucket}/{training_data_prefix}\"\n",
    "print(f\"training dataset: {training_dataset_s3_path}\")\n",
    "\n",
    "validation_dataset_s3_path = f\"s3://{training_data_bucket}/{validation_data_prefix}\"\n",
    "print(f\"validation dataset: {validation_dataset_s3_path}\")\n",
    "\n",
    "output_bucket = sess.default_bucket()\n",
    "output_prefix = \"telco/tabtransformer-output\"\n",
    "\n",
    "s3_output_location = f\"s3://{training_data_bucket}/{output_prefix}/output\"\n",
    "print(f\"Output location: {s3_output_location}\")\n",
    "\n",
    "print(\"Ensuring everything is alright...\")\n",
    "print(\"...Training Data\")\n",
    "print(train_data.head(3))\n",
    "print(\"...Validation Data\")\n",
    "print(validation_data.head(3))\n",
    "print(\"done..\")"
   ]
  },
  {
   "cell_type": "markdown",
   "id": "53660e17-d568-437d-b75f-c23803965b5e",
   "metadata": {
    "editable": true,
    "slideshow": {
     "slide_type": ""
    },
    "tags": []
   },
   "source": [
    "### Set Default Hyperparameters\n",
    "For algorithm specific hyper-parameters, we start by fetching python dictionary of the training hyper-parameters that the algorithm accepts with their default values. This can then be overridden to custom values.\n",
    "\n",
    "---"
   ]
  },
  {
   "cell_type": "code",
   "execution_count": 23,
   "id": "540f822c",
   "metadata": {
    "editable": true,
    "slideshow": {
     "slide_type": ""
    },
    "tags": []
   },
   "outputs": [
    {
     "name": "stdout",
     "output_type": "stream",
     "text": [
      "{'n_epochs': '20', 'patience': '10', 'learning_rate': '0.001', 'batch_size': '256', 'input_dim': '32', 'n_blocks': '4', 'attn_dropout': '0.2', 'mlp_dropout': '0.1', 'frac_shared_embed': '0.25'}\n"
     ]
    }
   ],
   "source": [
    "from sagemaker import hyperparameters\n",
    "\n",
    "# Retrieve the default hyper-parameters for training the model\n",
    "hyperparameters = hyperparameters.retrieve_default(\n",
    "    model_id=train_model_id, model_version=train_model_version\n",
    ")\n",
    "\n",
    "# [Optional] Override default hyperparameters with custom values\n",
    "hyperparameters[\"n_epochs\"] = \"20\"\n",
    "print(hyperparameters)"
   ]
  },
  {
   "cell_type": "markdown",
   "id": "f289b4d0",
   "metadata": {
    "editable": true,
    "slideshow": {
     "slide_type": ""
    },
    "tags": []
   },
   "source": [
    "### 2.3. Train with Automatic Model Tuning\n",
    "\n",
    "\n",
    "Amazon SageMaker automatic model tuning, also known as hyperparameter tuning, finds the best version of a model by running many training jobs on your dataset using the algorithm and ranges of hyperparameters that you specify. It then chooses the hyperparameter values that result in a model that performs the best, as measured by a metric that you choose. We will use a HyperparameterTuner object to interact with Amazon SageMaker hyperparameter tuning APIs. "
   ]
  },
  {
   "cell_type": "code",
   "execution_count": 24,
   "id": "8b5b258e",
   "metadata": {},
   "outputs": [],
   "source": [
    "from sagemaker.tuner import ContinuousParameter, CategoricalParameter, HyperparameterTuner\n",
    "\n",
    "use_amt = True\n",
    "\n",
    "hyperparameter_ranges = {\n",
    "    \"learning_rate\": ContinuousParameter(0.001, 0.01, scaling_type=\"Auto\"),\n",
    "    \"batch_size\": CategoricalParameter([128, 256, 512]),\n",
    "    \"attn_dropout\": ContinuousParameter(0.0, 0.8, scaling_type=\"Auto\"),\n",
    "    \"mlp_dropout\": ContinuousParameter(0.0, 0.8, scaling_type=\"Auto\"),\n",
    "}"
   ]
  },
  {
   "cell_type": "markdown",
   "id": "b765ed27",
   "metadata": {},
   "source": [
    "### 2.4. Start Training"
   ]
  },
  {
   "cell_type": "markdown",
   "id": "87a052d8",
   "metadata": {},
   "source": [
    "---\n",
    "We start by creating the estimator object with all the required assets and then launch the training job.\n",
    "\n",
    "---"
   ]
  },
  {
   "cell_type": "code",
   "execution_count": 25,
   "id": "feb39f11",
   "metadata": {
    "editable": true,
    "slideshow": {
     "slide_type": ""
    },
    "tags": []
   },
   "outputs": [
    {
     "name": "stderr",
     "output_type": "stream",
     "text": [
      "No finished training job found associated with this estimator. Please make sure this estimator is only used for building workflow config\n"
     ]
    },
    {
     "name": "stdout",
     "output_type": "stream",
     "text": [
      "Using AMT\n",
      "........................................................................!\n"
     ]
    }
   ],
   "source": [
    "from sagemaker.estimator import Estimator\n",
    "from sagemaker.utils import name_from_base\n",
    "\n",
    "training_job_name = name_from_base(f\"telco-{train_model_id}-training\")\n",
    "\n",
    "# Create SageMaker Estimator instance\n",
    "tabular_estimator = Estimator(\n",
    "    role=aws_role,\n",
    "    image_uri=train_image_uri,\n",
    "    source_dir=train_source_uri,\n",
    "    model_uri=train_model_uri,\n",
    "    entry_point=\"transfer_learning.py\",\n",
    "    instance_count=1,\n",
    "    instance_type=training_instance_type,\n",
    "    max_run=360000,\n",
    "    hyperparameters=hyperparameters,\n",
    "    output_path=s3_output_location,\n",
    ")\n",
    "\n",
    "if use_amt:\n",
    "    print(\"Using AMT\")\n",
    "    tuner = HyperparameterTuner(\n",
    "        tabular_estimator,\n",
    "        \"f1_score\",\n",
    "        hyperparameter_ranges,\n",
    "        [{\"Name\": \"f1_score\", \"Regex\": \"metrics={'f1': (\\\\S+)}\"}],\n",
    "        max_jobs=20,  # increase the max_jobs to achieve better performance from hyperparameter tuning\n",
    "        max_parallel_jobs=10,\n",
    "        objective_type=\"Maximize\",\n",
    "        base_tuning_job_name=training_job_name,\n",
    "    )\n",
    "\n",
    "    tuner.fit({\n",
    "        \"training\": training_dataset_s3_path,\n",
    "        \"validation\": validation_dataset_s3_path},\n",
    "              logs=\"All\")\n",
    "else:\n",
    "    # Launch a SageMaker Training job by passing s3 path of the training data\n",
    "    tabular_estimator.fit(\n",
    "        {\n",
    "            \"training\": training_dataset_s3_path,\n",
    "            \"validation\": validation_dataset_s3_path\n",
    "        }, logs=\"All\", job_name=training_job_name\n",
    "    )"
   ]
  },
  {
   "cell_type": "markdown",
   "id": "5fa5c235",
   "metadata": {
    "editable": true,
    "slideshow": {
     "slide_type": ""
    },
    "tags": []
   },
   "source": [
    "## 3. Deploy and Run Inference on the Trained Tabular Model\n",
    "\n",
    "---\n",
    "\n",
    "In this section, you learn how to query an existing endpoint and make predictions of the examples you input. For each example, the model will output a numerical value to estimate the corresponding target value.\n",
    "\n",
    "We start by retrieving the artifacts and deploy the `tabular_estimator` that we trained.\n",
    "\n",
    "---"
   ]
  },
  {
   "cell_type": "code",
   "execution_count": 26,
   "id": "cfcbb4a3",
   "metadata": {
    "editable": true,
    "slideshow": {
     "slide_type": ""
    },
    "tags": []
   },
   "outputs": [
    {
     "name": "stdout",
     "output_type": "stream",
     "text": [
      "\n",
      "2024-05-12 08:46:07 Starting - Found matching resource for reuse\n",
      "2024-05-12 08:46:07 Downloading - Downloading the training image\n",
      "2024-05-12 08:46:07 Training - Training image download completed. Training in progress.\n",
      "2024-05-12 08:46:07 Uploading - Uploading generated training model\n",
      "2024-05-12 08:46:07 Completed - Resource retained for reuse\n",
      "------!"
     ]
    }
   ],
   "source": [
    "inference_instance_type = \"ml.m5.2xlarge\"\n",
    "\n",
    "# Retrieve the inference docker container uri\n",
    "deploy_image_uri = image_uris.retrieve(\n",
    "    region=None,\n",
    "    framework=None,\n",
    "    image_scope=\"inference\",\n",
    "    model_id=train_model_id,\n",
    "    model_version=train_model_version,\n",
    "    instance_type=inference_instance_type,\n",
    ")\n",
    "# Retrieve the inference script uri\n",
    "deploy_source_uri = script_uris.retrieve(\n",
    "    model_id=train_model_id, model_version=train_model_version, script_scope=\"inference\"\n",
    ")\n",
    "\n",
    "endpoint_name = name_from_base(f\"cell2cell-2-{train_model_id}-\")\n",
    "\n",
    "# Use the estimator from the previous step to deploy to a SageMaker endpoint\n",
    "predictor = (tuner if use_amt else tabular_estimator).deploy(\n",
    "    initial_instance_count=1,\n",
    "    instance_type=inference_instance_type,\n",
    "    entry_point=\"inference.py\",\n",
    "    image_uri=deploy_image_uri,\n",
    "    source_dir=deploy_source_uri,\n",
    "    endpoint_name=endpoint_name,\n",
    ")"
   ]
  },
  {
   "cell_type": "markdown",
   "id": "1f86224a-31b6-484e-94b5-6d8994ff7ba4",
   "metadata": {},
   "source": [
    "#### Package and Register the Best Model"
   ]
  },
  {
   "cell_type": "code",
   "execution_count": 29,
   "id": "d8f69256-a900-47e9-a07b-c00e1a2bc2a6",
   "metadata": {},
   "outputs": [
    {
     "name": "stdout",
     "output_type": "stream",
     "text": [
      "\n",
      "2024-05-12 08:46:07 Starting - Found matching resource for reuse\n",
      "2024-05-12 08:46:07 Downloading - Downloading the training image\n",
      "2024-05-12 08:46:07 Training - Training image download completed. Training in progress.\n",
      "2024-05-12 08:46:07 Uploading - Uploading generated training model\n",
      "2024-05-12 08:46:07 Completed - Resource released due to keep alive period expiry\n"
     ]
    },
    {
     "data": {
      "text/plain": [
       "'s3://sagemaker-us-east-1-397799416488/telco/tabtransformer-output/output/telco-pytorch-tabtra-240512-0840-013-abecefd2/output/model.tar.gz'"
      ]
     },
     "execution_count": 29,
     "metadata": {},
     "output_type": "execute_result"
    }
   ],
   "source": [
    "(tuner if use_amt else tabular_estimator).best_estimator().model_data"
   ]
  },
  {
   "cell_type": "code",
   "execution_count": 40,
   "id": "aed8e27b-9c59-4eae-a20b-315deb63cbc9",
   "metadata": {},
   "outputs": [
    {
     "name": "stdout",
     "output_type": "stream",
     "text": [
      "{\n",
      "  \"TrainingJobName\": \"telco-pytorch-tabtra-240512-0840-013-abecefd2\",\n",
      "  \"TrainingJobArn\": \"arn:aws:sagemaker:us-east-1:397799416488:training-job/telco-pytorch-tabtra-240512-0840-013-abecefd2\",\n",
      "  \"TuningJobArn\": \"arn:aws:sagemaker:us-east-1:397799416488:hyper-parameter-tuning-job/telco-pytorch-tabtra-240512-0840\",\n",
      "  \"ModelArtifacts\": {\n",
      "    \"S3ModelArtifacts\": \"s3://sagemaker-us-east-1-397799416488/telco/tabtransformer-output/output/telco-pytorch-tabtra-240512-0840-013-abecefd2/output/model.tar.gz\"\n",
      "  },\n",
      "  \"TrainingJobStatus\": \"Completed\",\n",
      "  \"SecondaryStatus\": \"Completed\",\n",
      "  \"HyperParameters\": {\n",
      "    \"_tuning_objective_metric\": \"f1_score\",\n",
      "    \"attn_dropout\": \"0.5180572417164634\",\n",
      "    \"batch_size\": \"256\",\n",
      "    \"frac_shared_embed\": \"\\\"0.25\\\"\",\n",
      "    \"input_dim\": \"\\\"32\\\"\",\n",
      "    \"learning_rate\": \"0.005444125904493806\",\n",
      "    \"mlp_dropout\": \"0.5325241348761341\",\n",
      "    \"n_blocks\": \"\\\"4\\\"\",\n",
      "    \"n_epochs\": \"\\\"20\\\"\",\n",
      "    \"patience\": \"\\\"10\\\"\",\n",
      "    \"sagemaker_container_log_level\": \"20\",\n",
      "    \"sagemaker_job_name\": \"\\\"sagemaker-jumpstart-2024-05-12-08-40-35-855\\\"\",\n",
      "    \"sagemaker_program\": \"\\\"transfer_learning.py\\\"\",\n",
      "    \"sagemaker_region\": \"\\\"us-east-1\\\"\",\n",
      "    \"sagemaker_submit_directory\": \"\\\"s3://jumpstart-cache-prod-us-east-1/source-directory-tarballs/pytorch/transfer_learning/tabtransformerclassification/prepack/v1.1.0/sourcedir.tar.gz\\\"\"\n",
      "  },\n",
      "  \"AlgorithmSpecification\": {\n",
      "    \"TrainingImage\": \"763104351884.dkr.ecr.us-east-1.amazonaws.com/pytorch-training:1.9.0-cpu-py38\",\n",
      "    \"TrainingInputMode\": \"File\",\n",
      "    \"MetricDefinitions\": [\n",
      "      {\n",
      "        \"Name\": \"f1_score\",\n",
      "        \"Regex\": \"metrics={'f1': (\\\\S+)}\"\n",
      "      },\n",
      "      {\n",
      "        \"Name\": \"ObjectiveMetric\",\n",
      "        \"Regex\": \"metrics={'f1': (\\\\S+)}\"\n",
      "      }\n",
      "    ],\n",
      "    \"EnableSageMakerMetricsTimeSeries\": false\n",
      "  },\n",
      "  \"RoleArn\": \"arn:aws:iam::397799416488:role/service-role/AmazonSageMaker-ExecutionRole-20240507T181289\",\n",
      "  \"InputDataConfig\": [\n",
      "    {\n",
      "      \"ChannelName\": \"training\",\n",
      "      \"DataSource\": {\n",
      "        \"S3DataSource\": {\n",
      "          \"S3DataType\": \"S3Prefix\",\n",
      "          \"S3Uri\": \"s3://sagemaker-us-east-1-397799416488/telco/train\",\n",
      "          \"S3DataDistributionType\": \"FullyReplicated\"\n",
      "        }\n",
      "      },\n",
      "      \"CompressionType\": \"None\",\n",
      "      \"RecordWrapperType\": \"None\"\n",
      "    },\n",
      "    {\n",
      "      \"ChannelName\": \"validation\",\n",
      "      \"DataSource\": {\n",
      "        \"S3DataSource\": {\n",
      "          \"S3DataType\": \"S3Prefix\",\n",
      "          \"S3Uri\": \"s3://sagemaker-us-east-1-397799416488/telco/validation\",\n",
      "          \"S3DataDistributionType\": \"FullyReplicated\"\n",
      "        }\n",
      "      },\n",
      "      \"CompressionType\": \"None\",\n",
      "      \"RecordWrapperType\": \"None\"\n",
      "    },\n",
      "    {\n",
      "      \"ChannelName\": \"model\",\n",
      "      \"DataSource\": {\n",
      "        \"S3DataSource\": {\n",
      "          \"S3DataType\": \"S3Prefix\",\n",
      "          \"S3Uri\": \"s3://jumpstart-cache-prod-us-east-1/pytorch-training/train-pytorch-tabtransformerclassification-model.tar.gz\",\n",
      "          \"S3DataDistributionType\": \"FullyReplicated\"\n",
      "        }\n",
      "      },\n",
      "      \"ContentType\": \"application/x-sagemaker-model\",\n",
      "      \"CompressionType\": \"None\",\n",
      "      \"RecordWrapperType\": \"None\",\n",
      "      \"InputMode\": \"File\"\n",
      "    }\n",
      "  ],\n",
      "  \"OutputDataConfig\": {\n",
      "    \"KmsKeyId\": \"\",\n",
      "    \"S3OutputPath\": \"s3://sagemaker-us-east-1-397799416488/telco/tabtransformer-output/output\",\n",
      "    \"CompressionType\": \"GZIP\"\n",
      "  },\n",
      "  \"ResourceConfig\": {\n",
      "    \"InstanceType\": \"ml.m5.2xlarge\",\n",
      "    \"InstanceCount\": 1,\n",
      "    \"VolumeSizeInGB\": 30\n",
      "  },\n",
      "  \"WarmPoolStatus\": {\n",
      "    \"Status\": \"Terminated\"\n",
      "  },\n",
      "  \"StoppingCondition\": {\n",
      "    \"MaxRuntimeInSeconds\": 360000\n",
      "  },\n",
      "  \"CreationTime\": \"2024-05-12 08:44:06.091000+00:00\",\n",
      "  \"TrainingStartTime\": \"2024-05-12 08:44:09.240000+00:00\",\n",
      "  \"TrainingEndTime\": \"2024-05-12 08:46:05.792000+00:00\",\n",
      "  \"LastModifiedTime\": \"2024-05-12 08:46:07.547000+00:00\",\n",
      "  \"SecondaryStatusTransitions\": [\n",
      "    {\n",
      "      \"Status\": \"Starting\",\n",
      "      \"StartTime\": \"2024-05-12 08:44:06.091000+00:00\",\n",
      "      \"EndTime\": \"2024-05-12 08:44:09.240000+00:00\",\n",
      "      \"StatusMessage\": \"Found matching resource for reuse\"\n",
      "    },\n",
      "    {\n",
      "      \"Status\": \"Downloading\",\n",
      "      \"StartTime\": \"2024-05-12 08:44:09.240000+00:00\",\n",
      "      \"EndTime\": \"2024-05-12 08:44:19.825000+00:00\",\n",
      "      \"StatusMessage\": \"Downloading the training image\"\n",
      "    },\n",
      "    {\n",
      "      \"Status\": \"Training\",\n",
      "      \"StartTime\": \"2024-05-12 08:44:19.825000+00:00\",\n",
      "      \"EndTime\": \"2024-05-12 08:45:50.400000+00:00\",\n",
      "      \"StatusMessage\": \"Training image download completed. Training in progress.\"\n",
      "    },\n",
      "    {\n",
      "      \"Status\": \"Uploading\",\n",
      "      \"StartTime\": \"2024-05-12 08:45:50.400000+00:00\",\n",
      "      \"EndTime\": \"2024-05-12 08:46:05.792000+00:00\",\n",
      "      \"StatusMessage\": \"Uploading generated training model\"\n",
      "    },\n",
      "    {\n",
      "      \"Status\": \"Completed\",\n",
      "      \"StartTime\": \"2024-05-12 08:46:05.792000+00:00\",\n",
      "      \"EndTime\": \"2024-05-12 08:46:05.792000+00:00\",\n",
      "      \"StatusMessage\": \"Resource released due to keep alive period expiry\"\n",
      "    }\n",
      "  ],\n",
      "  \"FinalMetricDataList\": [\n",
      "    {\n",
      "      \"MetricName\": \"f1_score\",\n",
      "      \"Value\": 0.8384000062942505,\n",
      "      \"Timestamp\": \"2024-05-12 08:45:45+00:00\"\n",
      "    },\n",
      "    {\n",
      "      \"MetricName\": \"ObjectiveMetric\",\n",
      "      \"Value\": 0.8384000062942505,\n",
      "      \"Timestamp\": \"2024-05-12 08:45:45+00:00\"\n",
      "    }\n",
      "  ],\n",
      "  \"EnableNetworkIsolation\": false,\n",
      "  \"EnableInterContainerTrafficEncryption\": false,\n",
      "  \"EnableManagedSpotTraining\": false,\n",
      "  \"TrainingTimeInSeconds\": 116,\n",
      "  \"BillableTimeInSeconds\": 116,\n",
      "  \"ProfilingStatus\": \"Disabled\",\n",
      "  \"ResponseMetadata\": {\n",
      "    \"RequestId\": \"24cd72f3-24cd-4e1a-8d58-cfa73a7997e4\",\n",
      "    \"HTTPStatusCode\": 200,\n",
      "    \"HTTPHeaders\": {\n",
      "      \"x-amzn-requestid\": \"24cd72f3-24cd-4e1a-8d58-cfa73a7997e4\",\n",
      "      \"content-type\": \"application/x-amz-json-1.1\",\n",
      "      \"content-length\": \"4445\",\n",
      "      \"date\": \"Sun, 12 May 2024 09:35:16 GMT\"\n",
      "    },\n",
      "    \"RetryAttempts\": 0\n",
      "  }\n",
      "}\n"
     ]
    }
   ],
   "source": [
    "# Assuming 'tuner' is your HyperparameterTuner object\n",
    "best_training_job_name = (tuner if use_amt else tabular_estimator).best_training_job()\n",
    "\n",
    "# Get details of the best training job\n",
    "best_training_job_info = sess.sagemaker_client.describe_training_job(TrainingJobName=best_training_job_name)\n",
    "print(json.dumps(best_training_job_info, indent=2, default=str))"
   ]
  },
  {
   "cell_type": "code",
   "execution_count": 54,
   "id": "131148fd-fd77-4b99-beea-645d8af0e7c1",
   "metadata": {},
   "outputs": [
    {
     "data": {
      "text/plain": [
       "<sagemaker.model.ModelPackage at 0x7fd48222ca90>"
      ]
     },
     "execution_count": 54,
     "metadata": {},
     "output_type": "execute_result"
    }
   ],
   "source": [
    "from sagemaker.model import Model\n",
    "\n",
    "model_data = best_training_job_info['ModelArtifacts']['S3ModelArtifacts']\n",
    "primary_container = {\n",
    "    'Image': best_training_job_info['AlgorithmSpecification']['TrainingImage'],\n",
    "    'ModelDataUrl': model_data,\n",
    "}\n",
    "\n",
    "# Create a SageMaker model\n",
    "model = Model(\n",
    "    image_uri=primary_container['Image'],\n",
    "    model_data=primary_container['ModelDataUrl'],\n",
    "    role=sagemaker.get_execution_role(),  # Ensure the role has necessary permissions\n",
    "    entry_point=\"inference.py\",\n",
    "    source_dir=deploy_source_uri,\n",
    "    sagemaker_session=sess\n",
    ")\n",
    "\n",
    "model.register(model_package_group_name=training_job_name)"
   ]
  },
  {
   "cell_type": "markdown",
   "id": "2b3bfd84",
   "metadata": {},
   "source": [
    "---\n",
    "Next, do a test!\n",
    "\n",
    "---"
   ]
  },
  {
   "cell_type": "code",
   "execution_count": 30,
   "id": "a301a885",
   "metadata": {
    "editable": true,
    "slideshow": {
     "slide_type": ""
    },
    "tags": []
   },
   "outputs": [
    {
     "name": "stdout",
     "output_type": "stream",
     "text": [
      "\u001b[1mThe test dataset contains 1409 examples and 26 columns.\u001b[0m\n",
      "\n",
      "\u001b[1mThe first 5 observations of the data: \u001b[0m \n",
      "\n",
      "      Churn        Country       State          City  Zip Code  Gender  \\\n",
      "185       1  United States  California         Keene     93531     1.0   \n",
      "2715      0  United States  California      Stockton     95207     2.0   \n",
      "3825      0  United States  California   San Leandro     94579     1.0   \n",
      "1807      1  United States  California  Sherman Oaks     91423     2.0   \n",
      "132       1  United States  California      Murrieta     92563     2.0   \n",
      "\n",
      "      Senior Citizen  Partner  Dependents  Tenure Months  ...  \\\n",
      "185              1.0      1.0         1.0             15  ...   \n",
      "2715             1.0      2.0         1.0             18  ...   \n",
      "3825             1.0      1.0         1.0              2  ...   \n",
      "1807             2.0      2.0         1.0              6  ...   \n",
      "132              1.0      1.0         1.0             40  ...   \n",
      "\n",
      "             Tech Support         Streaming TV     Streaming Movies  \\\n",
      "185                    No                   No                  Yes   \n",
      "2715                   No                   No                   No   \n",
      "3825  No internet service  No internet service  No internet service   \n",
      "1807                   No                   No                  Yes   \n",
      "132                   Yes                  Yes                  Yes   \n",
      "\n",
      "            Contract Paperless Billing             Payment Method  \\\n",
      "185   Month-to-month               2.0  Bank transfer (automatic)   \n",
      "2715  Month-to-month               1.0    Credit card (automatic)   \n",
      "3825  Month-to-month               2.0               Mailed check   \n",
      "1807  Month-to-month               2.0           Electronic check   \n",
      "132   Month-to-month               1.0  Bank transfer (automatic)   \n",
      "\n",
      "     Monthly Charges Total Charges Churn Score  CLTV  \n",
      "185             85.9       1269.55          96  3579  \n",
      "2715            56.8       1074.65          59  5558  \n",
      "3825            20.0          40.9          39  2237  \n",
      "1807            84.2        519.15          72  5834  \n",
      "132            104.8       4131.95          88  3492  \n",
      "\n",
      "[5 rows x 26 columns]\n"
     ]
    }
   ],
   "source": [
    "newline, bold, unbold = \"\\n\", \"\\033[1m\", \"\\033[0m\"\n",
    "\n",
    "import numpy as np\n",
    "import pandas as pd\n",
    "from sklearn.metrics import accuracy_score\n",
    "from sklearn.metrics import f1_score\n",
    "from sklearn.metrics import recall_score\n",
    "from sklearn.metrics import roc_auc_score\n",
    "from sklearn.metrics import confusion_matrix\n",
    "import matplotlib.pyplot as plt\n",
    "\n",
    "# read the data\n",
    "# Note: validation data is already in S3 buckets so can be read if needed as well\n",
    "test_data = validation_data.copy()\n",
    "\n",
    "num_examples, num_columns = test_data.shape\n",
    "print(\n",
    "    f\"{bold}The test dataset contains {num_examples} examples and {num_columns} columns.{unbold}\\n\"\n",
    ")\n",
    "\n",
    "# prepare the ground truth target and predicting features to send into the endpoint.\n",
    "ground_truth_label, features = test_data.iloc[:, :1], test_data.iloc[:, 1:]\n",
    "\n",
    "print(f\"{bold}The first 5 observations of the data: {unbold} \\n\")\n",
    "print(test_data.head(5))"
   ]
  },
  {
   "cell_type": "markdown",
   "id": "cde0cd66",
   "metadata": {},
   "source": [
    "---\n",
    "The following code queries the endpoint you have created to get the prediction for each test example. The query_endpoint() function returns an array-like of shape (num_examples, num_classes), where each row indicates the probability of the example for each class in the model. The num_classes is 2 in above test data. Next, the predicted class label is obtained by taking the class label with the maximum probability over others for each example.\n",
    "\n",
    "---"
   ]
  },
  {
   "cell_type": "code",
   "execution_count": 57,
   "id": "6b311948",
   "metadata": {},
   "outputs": [
    {
     "ename": "ValidationError",
     "evalue": "An error occurred (ValidationError) when calling the InvokeEndpoint operation: Endpoint cell2cell-2-pytorch-tabtransformerclass-2024-05-12-08-49-00-651 of account 397799416488 not found.",
     "output_type": "error",
     "traceback": [
      "\u001b[0;31m---------------------------------------------------------------------------\u001b[0m",
      "\u001b[0;31mValidationError\u001b[0m                           Traceback (most recent call last)",
      "Cell \u001b[0;32mIn[57], line 23\u001b[0m\n\u001b[1;32m     21\u001b[0m predict_prob \u001b[38;5;241m=\u001b[39m []\n\u001b[1;32m     22\u001b[0m \u001b[38;5;28;01mfor\u001b[39;00m i \u001b[38;5;129;01min\u001b[39;00m np\u001b[38;5;241m.\u001b[39marange(\u001b[38;5;241m0\u001b[39m, num_examples, step\u001b[38;5;241m=\u001b[39mbatch_size):\n\u001b[0;32m---> 23\u001b[0m     query_response_batch \u001b[38;5;241m=\u001b[39m \u001b[43mquery_endpoint\u001b[49m\u001b[43m(\u001b[49m\n\u001b[1;32m     24\u001b[0m \u001b[43m        \u001b[49m\u001b[43mfeatures\u001b[49m\u001b[38;5;241;43m.\u001b[39;49m\u001b[43miloc\u001b[49m\u001b[43m[\u001b[49m\u001b[43mi\u001b[49m\u001b[43m \u001b[49m\u001b[43m:\u001b[49m\u001b[43m \u001b[49m\u001b[43m(\u001b[49m\u001b[43mi\u001b[49m\u001b[43m \u001b[49m\u001b[38;5;241;43m+\u001b[39;49m\u001b[43m \u001b[49m\u001b[43mbatch_size\u001b[49m\u001b[43m)\u001b[49m\u001b[43m,\u001b[49m\u001b[43m \u001b[49m\u001b[43m:\u001b[49m\u001b[43m]\u001b[49m\u001b[38;5;241;43m.\u001b[39;49m\u001b[43mto_csv\u001b[49m\u001b[43m(\u001b[49m\u001b[43mheader\u001b[49m\u001b[38;5;241;43m=\u001b[39;49m\u001b[38;5;28;43;01mFalse\u001b[39;49;00m\u001b[43m,\u001b[49m\u001b[43m \u001b[49m\u001b[43mindex\u001b[49m\u001b[38;5;241;43m=\u001b[39;49m\u001b[38;5;28;43;01mFalse\u001b[39;49;00m\u001b[43m)\u001b[49m\u001b[38;5;241;43m.\u001b[39;49m\u001b[43mencode\u001b[49m\u001b[43m(\u001b[49m\u001b[38;5;124;43m\"\u001b[39;49m\u001b[38;5;124;43mutf-8\u001b[39;49m\u001b[38;5;124;43m\"\u001b[39;49m\u001b[43m)\u001b[49m\n\u001b[1;32m     25\u001b[0m \u001b[43m    \u001b[49m\u001b[43m)\u001b[49m\n\u001b[1;32m     26\u001b[0m     predict_prob_batch \u001b[38;5;241m=\u001b[39m parse_response(query_response_batch)  \u001b[38;5;66;03m# prediction probability per batch\u001b[39;00m\n\u001b[1;32m     27\u001b[0m     predict_prob\u001b[38;5;241m.\u001b[39mappend(predict_prob_batch)\n",
      "Cell \u001b[0;32mIn[57], line 7\u001b[0m, in \u001b[0;36mquery_endpoint\u001b[0;34m(encoded_tabular_data)\u001b[0m\n\u001b[1;32m      4\u001b[0m \u001b[38;5;28;01mdef\u001b[39;00m \u001b[38;5;21mquery_endpoint\u001b[39m(encoded_tabular_data):\n\u001b[1;32m      5\u001b[0m     \u001b[38;5;66;03m# endpoint_name = endpoint_name\u001b[39;00m\n\u001b[1;32m      6\u001b[0m     client \u001b[38;5;241m=\u001b[39m boto3\u001b[38;5;241m.\u001b[39mclient(\u001b[38;5;124m\"\u001b[39m\u001b[38;5;124mruntime.sagemaker\u001b[39m\u001b[38;5;124m\"\u001b[39m)\n\u001b[0;32m----> 7\u001b[0m     response \u001b[38;5;241m=\u001b[39m \u001b[43mclient\u001b[49m\u001b[38;5;241;43m.\u001b[39;49m\u001b[43minvoke_endpoint\u001b[49m\u001b[43m(\u001b[49m\n\u001b[1;32m      8\u001b[0m \u001b[43m        \u001b[49m\u001b[43mEndpointName\u001b[49m\u001b[38;5;241;43m=\u001b[39;49m\u001b[43mendpoint_name\u001b[49m\u001b[43m,\u001b[49m\u001b[43m \u001b[49m\u001b[43mContentType\u001b[49m\u001b[38;5;241;43m=\u001b[39;49m\u001b[43mcontent_type\u001b[49m\u001b[43m,\u001b[49m\u001b[43m \u001b[49m\u001b[43mBody\u001b[49m\u001b[38;5;241;43m=\u001b[39;49m\u001b[43mencoded_tabular_data\u001b[49m\n\u001b[1;32m      9\u001b[0m \u001b[43m    \u001b[49m\u001b[43m)\u001b[49m\n\u001b[1;32m     10\u001b[0m     \u001b[38;5;28;01mreturn\u001b[39;00m response\n",
      "File \u001b[0;32m/opt/conda/lib/python3.10/site-packages/botocore/client.py:553\u001b[0m, in \u001b[0;36mClientCreator._create_api_method.<locals>._api_call\u001b[0;34m(self, *args, **kwargs)\u001b[0m\n\u001b[1;32m    549\u001b[0m     \u001b[38;5;28;01mraise\u001b[39;00m \u001b[38;5;167;01mTypeError\u001b[39;00m(\n\u001b[1;32m    550\u001b[0m         \u001b[38;5;124mf\u001b[39m\u001b[38;5;124m\"\u001b[39m\u001b[38;5;132;01m{\u001b[39;00mpy_operation_name\u001b[38;5;132;01m}\u001b[39;00m\u001b[38;5;124m() only accepts keyword arguments.\u001b[39m\u001b[38;5;124m\"\u001b[39m\n\u001b[1;32m    551\u001b[0m     )\n\u001b[1;32m    552\u001b[0m \u001b[38;5;66;03m# The \"self\" in this scope is referring to the BaseClient.\u001b[39;00m\n\u001b[0;32m--> 553\u001b[0m \u001b[38;5;28;01mreturn\u001b[39;00m \u001b[38;5;28;43mself\u001b[39;49m\u001b[38;5;241;43m.\u001b[39;49m\u001b[43m_make_api_call\u001b[49m\u001b[43m(\u001b[49m\u001b[43moperation_name\u001b[49m\u001b[43m,\u001b[49m\u001b[43m \u001b[49m\u001b[43mkwargs\u001b[49m\u001b[43m)\u001b[49m\n",
      "File \u001b[0;32m/opt/conda/lib/python3.10/site-packages/botocore/client.py:1009\u001b[0m, in \u001b[0;36mBaseClient._make_api_call\u001b[0;34m(self, operation_name, api_params)\u001b[0m\n\u001b[1;32m   1005\u001b[0m     error_code \u001b[38;5;241m=\u001b[39m error_info\u001b[38;5;241m.\u001b[39mget(\u001b[38;5;124m\"\u001b[39m\u001b[38;5;124mQueryErrorCode\u001b[39m\u001b[38;5;124m\"\u001b[39m) \u001b[38;5;129;01mor\u001b[39;00m error_info\u001b[38;5;241m.\u001b[39mget(\n\u001b[1;32m   1006\u001b[0m         \u001b[38;5;124m\"\u001b[39m\u001b[38;5;124mCode\u001b[39m\u001b[38;5;124m\"\u001b[39m\n\u001b[1;32m   1007\u001b[0m     )\n\u001b[1;32m   1008\u001b[0m     error_class \u001b[38;5;241m=\u001b[39m \u001b[38;5;28mself\u001b[39m\u001b[38;5;241m.\u001b[39mexceptions\u001b[38;5;241m.\u001b[39mfrom_code(error_code)\n\u001b[0;32m-> 1009\u001b[0m     \u001b[38;5;28;01mraise\u001b[39;00m error_class(parsed_response, operation_name)\n\u001b[1;32m   1010\u001b[0m \u001b[38;5;28;01melse\u001b[39;00m:\n\u001b[1;32m   1011\u001b[0m     \u001b[38;5;28;01mreturn\u001b[39;00m parsed_response\n",
      "\u001b[0;31mValidationError\u001b[0m: An error occurred (ValidationError) when calling the InvokeEndpoint operation: Endpoint cell2cell-2-pytorch-tabtransformerclass-2024-05-12-08-49-00-651 of account 397799416488 not found."
     ]
    }
   ],
   "source": [
    "content_type = \"text/csv\"\n",
    "\n",
    "\n",
    "def query_endpoint(encoded_tabular_data):\n",
    "    # endpoint_name = endpoint_name\n",
    "    client = boto3.client(\"runtime.sagemaker\")\n",
    "    response = client.invoke_endpoint(\n",
    "        EndpointName=endpoint_name, ContentType=content_type, Body=encoded_tabular_data\n",
    "    )\n",
    "    return response\n",
    "\n",
    "\n",
    "def parse_response(query_response):\n",
    "    model_predictions = json.loads(query_response[\"Body\"].read())\n",
    "    predicted_probabilities = model_predictions[\"probabilities\"]\n",
    "    return np.array(predicted_probabilities)\n",
    "\n",
    "\n",
    "# split the test data into smaller size of batches to query the endpoint due to the large size of test data.\n",
    "batch_size = 1500\n",
    "predict_prob = []\n",
    "for i in np.arange(0, num_examples, step=batch_size):\n",
    "    query_response_batch = query_endpoint(\n",
    "        features.iloc[i : (i + batch_size), :].to_csv(header=False, index=False).encode(\"utf-8\")\n",
    "    )\n",
    "    predict_prob_batch = parse_response(query_response_batch)  # prediction probability per batch\n",
    "    predict_prob.append(predict_prob_batch)\n",
    "\n",
    "\n",
    "predict_prob = np.concatenate(predict_prob, axis=0)\n",
    "predict_label = np.argmax(predict_prob, axis=1)"
   ]
  },
  {
   "cell_type": "code",
   "execution_count": 58,
   "id": "cd498951-16b7-4307-810e-372acdaf46d5",
   "metadata": {},
   "outputs": [],
   "source": [
    "test_data.iloc[42:43].to_csv('test.csv',index=False, header=False)"
   ]
  },
  {
   "cell_type": "markdown",
   "id": "a675cb65",
   "metadata": {},
   "source": [
    "## 4. Evaluate the Prediction Results Returned from the Endpoint\n",
    "\n",
    "---\n",
    "We evaluate the predictions results returned from the endpoint by following two ways.\n",
    "\n",
    "* Visualize the predictions results by plotting the confusion matrix.\n",
    "\n",
    "* Measure the prediction results quantitatively.\n",
    "\n",
    "---"
   ]
  },
  {
   "cell_type": "code",
   "execution_count": 32,
   "id": "f0629bab",
   "metadata": {},
   "outputs": [
    {
     "data": {
      "image/png": "[encoded data removed]",
      "text/plain": [
       "<Figure size 750x750 with 1 Axes>"
      ]
     },
     "metadata": {},
     "output_type": "display_data"
    }
   ],
   "source": [
    "# Visualize the predictions results by plotting the confusion matrix.\n",
    "conf_matrix = confusion_matrix(y_true=ground_truth_label.values, y_pred=predict_label)\n",
    "fig, ax = plt.subplots(figsize=(7.5, 7.5))\n",
    "ax.matshow(conf_matrix, cmap=plt.cm.Blues, alpha=0.3)\n",
    "for i in range(conf_matrix.shape[0]):\n",
    "    for j in range(conf_matrix.shape[1]):\n",
    "        ax.text(x=j, y=i, s=conf_matrix[i, j], va=\"center\", ha=\"center\", size=\"xx-large\")\n",
    "\n",
    "plt.xlabel(\"Predictions\", fontsize=18)\n",
    "plt.ylabel(\"Actuals\", fontsize=18)\n",
    "plt.title(\"Confusion Matrix\", fontsize=18)\n",
    "plt.show()"
   ]
  },
  {
   "cell_type": "code",
   "execution_count": 33,
   "id": "9f523a52",
   "metadata": {},
   "outputs": [
    {
     "name": "stdout",
     "output_type": "stream",
     "text": [
      "\u001b[1mEvaluation result on test data\u001b[0m:\n",
      "\u001b[1maccuracy_score\u001b[0m: 0.9020581973030518\n",
      "\u001b[1mrecall_score\u001b[0m: 0.895\n",
      "\u001b[1mroc_auc_score\u001b[0m: 0.8999281466798811\n",
      "\u001b[1mF1 \u001b[0m: 0.8384074941451991\n",
      "\n"
     ]
    }
   ],
   "source": [
    "# Measure the prediction results quantitatively.\n",
    "eval_accuracy = accuracy_score(ground_truth_label.values, predict_label)\n",
    "eval_recall = recall_score(ground_truth_label.values, predict_label)\n",
    "eval_auc = roc_auc_score(ground_truth_label.values, predict_label)\n",
    "eval_f1 = f1_score(ground_truth_label.values, predict_label)\n",
    "\n",
    "print(\n",
    "    f\"{bold}Evaluation result on test data{unbold}:{newline}\"\n",
    "    f\"{bold}{accuracy_score.__name__}{unbold}: {eval_accuracy}{newline}\"\n",
    "    f\"{bold}{recall_score.__name__}{unbold}: {eval_recall}{newline}\"\n",
    "    f\"{bold}{roc_auc_score.__name__}{unbold}: {eval_auc}{newline}\"\n",
    "    f\"{bold}F1 {unbold}: {eval_f1}{newline}\"\n",
    ")"
   ]
  },
  {
   "cell_type": "markdown",
   "id": "c07e16bb",
   "metadata": {},
   "source": [
    "---\n",
    "Next, we delete the endpoint corresponding to the trained model.\n",
    "\n",
    "---"
   ]
  },
  {
   "cell_type": "code",
   "execution_count": 34,
   "id": "0b18b7e1",
   "metadata": {},
   "outputs": [],
   "source": [
    "# Delete the SageMaker endpoint and the attached resources\n",
    "# predictor.delete_model()\n",
    "predictor.delete_endpoint()"
   ]
  },
  {
   "cell_type": "code",
   "execution_count": null,
   "id": "257e5b53-b9a2-4f1f-8b20-0aa3c631f68b",
   "metadata": {},
   "outputs": [],
   "source": []
  }
 ],
 "metadata": {
  "instance_type": "ml.t3.medium",
  "kernelspec": {
   "display_name": "Python 3 (ipykernel)",
   "language": "python",
   "name": "python3"
  },
  "language_info": {
   "codemirror_mode": {
    "name": "ipython",
    "version": 3
   },
   "file_extension": ".py",
   "mimetype": "text/x-python",
   "name": "python",
   "nbconvert_exporter": "python",
   "pygments_lexer": "ipython3",
   "version": "3.10.14"
  }
 },
 "nbformat": 4,
 "nbformat_minor": 5
}
